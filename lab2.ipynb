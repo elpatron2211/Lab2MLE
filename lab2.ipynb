{
 "cells": [
  {
   "cell_type": "code",
   "execution_count": 1,
   "metadata": {},
   "outputs": [],
   "source": [
    "import pandas as pd\n",
    "import numpy as np\n",
    "import matplotlib.pyplot as plt\n",
    "import seaborn as sns"
   ]
  },
  {
   "cell_type": "code",
   "execution_count": 2,
   "id": "32d25f3d",
   "metadata": {},
   "outputs": [],
   "source": [
    "clientes=pd.read_csv('cliente.csv',encoding='latin1')\n",
    "categorias=pd.read_csv('categoria.csv',encoding=\"latin1\")\n",
    "events=pd.read_csv('events.csv',encoding='latin1')\n",
    "marca=pd.read_csv('marca.csv',encoding=\"latin1\")\n",
    "producto=pd.read_csv('producto.csv',encoding=\"latin1\")"
   ]
  },
  {
   "cell_type": "code",
   "execution_count": 3,
   "id": "466e35bb",
   "metadata": {},
   "outputs": [
    {
     "name": "stderr",
     "output_type": "stream",
     "text": [
      "C:\\Users\\raule\\AppData\\Local\\Temp\\ipykernel_19640\\2590808003.py:2: UserWarning: Could not infer format, so each element will be parsed individually, falling back to `dateutil`. To ensure parsing is consistent and as-expected, please specify a format.\n",
      "  clientes[\"nacimiento\"]=pd.to_datetime(clientes[\"nacimiento\"], errors='coerce')\n"
     ]
    },
    {
     "data": {
      "application/vnd.microsoft.datawrangler.viewer.v0+json": {
       "columns": [
        {
         "name": "index",
         "rawType": "int64",
         "type": "integer"
        },
        {
         "name": "id",
         "rawType": "float64",
         "type": "float"
        },
        {
         "name": "nombre",
         "rawType": "object",
         "type": "string"
        },
        {
         "name": "apellido",
         "rawType": "object",
         "type": "string"
        },
        {
         "name": "nacimiento",
         "rawType": "datetime64[ns]",
         "type": "datetime"
        },
        {
         "name": "genero",
         "rawType": "object",
         "type": "string"
        },
        {
         "name": "empresa",
         "rawType": "object",
         "type": "string"
        },
        {
         "name": "idioma",
         "rawType": "object",
         "type": "string"
        },
        {
         "name": "nit",
         "rawType": "object",
         "type": "string"
        },
        {
         "name": "puesto",
         "rawType": "object",
         "type": "string"
        },
        {
         "name": "ciudad",
         "rawType": "object",
         "type": "string"
        },
        {
         "name": "correo",
         "rawType": "object",
         "type": "string"
        },
        {
         "name": "telefono",
         "rawType": "object",
         "type": "string"
        },
        {
         "name": "age",
         "rawType": "float64",
         "type": "float"
        }
       ],
       "ref": "cbe658ae-faf5-499b-91f8-829b0880640a",
       "rows": [
        [
         "0",
         "599528.0",
         "Samuel",
         "Ward",
         "1989-04-06 00:00:00",
         "Male",
         "Yakijo",
         "Marathi",
         "411-44-7088",
         "Geologist IV",
         "Wangjing",
         "sward0@tamu.edu",
         "86-(786)608-5061",
         "26.0"
        ],
        [
         "1",
         "121688.0",
         "Willie",
         "Gonzales",
         "2072-06-29 00:00:00",
         "Male",
         "Zoonoodle",
         "Maltese",
         "701-87-7540",
         "Programmer III",
         "El Corozo",
         "wgonzales1@apache.org",
         "58-(265)301-3397",
         "-57.0"
        ],
        [
         "2",
         "552148.0",
         "Betty",
         "Spencer",
         "1983-09-02 00:00:00",
         "Female",
         "Youtags",
         "Dhivehi",
         "373-88-4503",
         "Engineer III",
         "Jinhua",
         "bspencer2@shutterfly.com",
         "86-(195)193-9042",
         "32.0"
        ],
        [
         "3",
         "102019.0",
         "Beverly",
         "Jordan",
         "2072-01-15 00:00:00",
         "Female",
         "Fivespan",
         "Hindi",
         "447-80-5871",
         "Software Test Engineer IV",
         "Salvacion",
         "bjordan3@vimeo.com",
         "63-(652)708-7688",
         "-57.0"
        ],
        [
         "4",
         "189384.0",
         "Cynthia",
         "Flores",
         "2071-02-06 00:00:00",
         "Female",
         "Jabbersphere",
         "Tsonga",
         "803-60-8259",
         "Speech Pathologist",
         "Khorol",
         "cflores4@webeden.co.uk",
         "380-(373)389-5435",
         "-56.0"
        ],
        [
         "5",
         "350566.0",
         "Donna",
         "Hansen",
         "2059-09-05 00:00:00",
         "Female",
         "Eazzy",
         "German",
         "980-60-6458",
         "Graphic Designer",
         "Doctor Juan LeÌ_n MallorquÌ_n",
         "dhansen5@nymag.com",
         "595-(777)710-9393",
         "-44.0"
        ],
        [
         "6",
         "404403.0",
         "Anthony",
         "Reid",
         "2061-03-02 00:00:00",
         "Male",
         "Photolist",
         "Hiri Motu",
         "208-70-5661",
         "Mechanical Systems Engineer",
         "Mlawat",
         "areid6@nyu.edu",
         "62-(269)292-3345",
         "-46.0"
        ],
        [
         "7",
         "505565.0",
         "Sharon",
         "Webb",
         "2073-03-30 00:00:00",
         "Female",
         "Oyoba",
         "Hindi",
         "467-72-1311",
         "Desktop Support Technician",
         "Villeta",
         "swebb7@posterous.com",
         "57-(932)286-3710",
         "-58.0"
        ],
        [
         "8",
         "945184.0",
         "Nancy",
         "Banks",
         "1980-08-10 00:00:00",
         "Female",
         "Wikivu",
         "Swahili",
         "208-63-2112",
         "Health Coach III",
         "Kaliska",
         "nbanks8@163.com",
         "48-(284)988-8563",
         "35.0"
        ],
        [
         "9",
         "1406787.0",
         "Stephanie",
         "Hudson",
         "1991-01-06 00:00:00",
         "Female",
         "Agimba",
         "Chinese",
         "365-74-2748",
         "Technical Writer",
         "ThÈÜ Tr¼´n N®¡ÈÝc Hai",
         "shudson9@cdbaby.com",
         "84-(468)360-5193",
         "24.0"
        ],
        [
         "10",
         "820159.0",
         "Brenda",
         "White",
         "2058-12-18 00:00:00",
         "Female",
         "Omba",
         "Sotho",
         "351-38-2956",
         "Health Coach I",
         "Beichengqu",
         "bwhitea@yale.edu",
         "86-(504)550-0311",
         "-43.0"
        ],
        [
         "11",
         "319880.0",
         "Ashley",
         "Burns",
         "1975-03-12 00:00:00",
         "Female",
         "Riffpedia",
         "Amharic",
         "391-30-4830",
         "Sales Representative",
         "Pasinan Barat",
         "aburnsb@cargocollective.com",
         "62-(572)669-7048",
         "40.0"
        ],
        [
         "12",
         "608628.0",
         "Ronald",
         "Jackson",
         "2049-06-29 00:00:00",
         "Male",
         "Jabbercube",
         "Kyrgyz",
         "689-85-7000",
         "Assistant Manager",
         "Cipicung",
         "rjacksonc@drupal.org",
         "62-(512)503-3270",
         "-34.0"
        ],
        [
         "13",
         "956011.0",
         "Ruby",
         "Larson",
         "2070-07-20 00:00:00",
         "Female",
         "Mydo",
         "German",
         "315-47-0904",
         "Programmer Analyst IV",
         "Salvacion",
         "rlarsond@businessinsider.com",
         "63-(809)104-3011",
         "-55.0"
        ],
        [
         "14",
         "1318394.0",
         "Jonathan",
         "Harper",
         "2057-02-01 00:00:00",
         "Male",
         "Thoughtstorm",
         "Assamese",
         "417-00-5462",
         "Information Systems Manager",
         "Taluksangay",
         "jharpere@ucoz.com",
         "63-(252)258-0016",
         "-42.0"
        ],
        [
         "15",
         "61806.0",
         "Louis",
         "Sullivan",
         "2069-06-18 00:00:00",
         "Male",
         "Blogspan",
         "Tswana",
         "173-76-5361",
         "Marketing Manager",
         "AsniÌ¬res-sur-Seine",
         "lsullivanf@yahoo.com",
         "33-(877)605-5009",
         "-54.0"
        ],
        [
         "16",
         "1331125.0",
         "Charles",
         "Brown",
         "2059-01-27 00:00:00",
         "Male",
         "Zoomcast",
         "Kurdish",
         "729-75-6825",
         "Data Coordiator",
         "TsagaandÌ¦rvÌ¦lj",
         "cbrowng@disqus.com",
         "976-(850)945-3086",
         "-44.0"
        ],
        [
         "17",
         "911093.0",
         "Jimmy",
         "Day",
         "2047-01-31 00:00:00",
         "Male",
         "Dabfeed",
         "Filipino",
         "288-18-5216",
         "Editor",
         "BªezovÌÁ",
         "jdayh@delicious.com",
         "420-(837)677-9354",
         "-32.0"
        ],
        [
         "18",
         "157419.0",
         "Sarah",
         "Mills",
         "1977-05-28 00:00:00",
         "Female",
         "Twimbo",
         "Tswana",
         "851-39-0768",
         "Quality Engineer",
         "Sukowiryo",
         "smillsi@ted.com",
         "62-(613)147-4326",
         "38.0"
        ],
        [
         "19",
         "1166562.0",
         "Brenda",
         "Franklin",
         "1985-06-19 00:00:00",
         "Female",
         "Ooba",
         "Mori",
         "786-40-3984",
         "Civil Engineer",
         "Guangfu",
         "bfranklinj@4shared.com",
         "86-(853)176-1270",
         "30.0"
        ],
        [
         "20",
         "464138.0",
         "Margaret",
         "Moore",
         "1979-07-13 00:00:00",
         "Female",
         "Skipstorm",
         "Czech",
         "745-35-1974",
         "Payment Adjustment Coordinator",
         "Isugod",
         "mmoorek@economist.com",
         "63-(600)364-8021",
         "36.0"
        ],
        [
         "21",
         "273406.0",
         "Lisa",
         "Shaw",
         "1989-05-25 00:00:00",
         "Female",
         "Roodel",
         "Amharic",
         "960-42-5167",
         "Administrative Officer",
         "Sussex",
         "lshawl@state.gov",
         "1-(549)101-2628",
         "26.0"
        ],
        [
         "22",
         "1233140.0",
         "Catherine",
         "Wilson",
         "2069-07-30 00:00:00",
         "Female",
         "Mudo",
         "Dutch",
         "513-02-3452",
         "Mechanical Systems Engineer",
         "Miskolc",
         "cwilsonm@ustream.tv",
         "36-(380)924-8756",
         "-54.0"
        ],
        [
         "23",
         "813069.0",
         "Christine",
         "Stewart",
         "2055-12-31 00:00:00",
         "Female",
         "Voolith",
         "Thai",
         "452-58-0810",
         "Data Coordiator",
         "Pitanga",
         "cstewartn@smugmug.com",
         "55-(847)549-0329",
         "-40.0"
        ],
        [
         "24",
         "504901.0",
         "Louis",
         "Day",
         "2054-12-22 00:00:00",
         "Male",
         "Leenti",
         "Northern Sotho",
         "789-36-5470",
         "Assistant Professor",
         "Verkhniy Baskunchak",
         "ldayo@woothemes.com",
         "7-(900)256-8223",
         "-39.0"
        ],
        [
         "25",
         "1041255.0",
         "Jesse",
         "Murray",
         "1979-08-30 00:00:00",
         "Male",
         "Skalith",
         "Indonesian",
         "689-27-4340",
         "Technical Writer",
         "Birobidzhan",
         "jmurrayp@tuttocitta.it",
         "7-(636)611-9735",
         "36.0"
        ],
        [
         "26",
         "328126.0",
         "Jessica",
         "Marshall",
         "2051-06-16 00:00:00",
         "Female",
         "Zoomdog",
         "Czech",
         "917-52-0689",
         "Structural Engineer",
         "Yengiawat",
         "jmarshallq@theglobeandmail.com",
         "86-(192)943-0717",
         "-36.0"
        ],
        [
         "27",
         "497826.0",
         "Henry",
         "Hernandez",
         "2044-10-16 00:00:00",
         "Male",
         "Cogidoo",
         "English",
         "995-37-2838",
         "Nuclear Power Engineer",
         "Siguiri",
         "hhernandezr@umich.edu",
         "224-(425)296-1073",
         "-29.0"
        ],
        [
         "28",
         "666960.0",
         "Juan",
         "Burton",
         "2054-08-24 00:00:00",
         "Male",
         "Devify",
         "Yiddish",
         "555-36-9837",
         "Executive Secretary",
         "Dingshan",
         "jburtons@artisteer.com",
         "86-(336)712-4174",
         "-39.0"
        ],
        [
         "29",
         "1161163.0",
         "Ruby",
         "Thomas",
         "1981-11-25 00:00:00",
         "Female",
         "Tekfly",
         "Ndebele",
         "489-02-7482",
         "Research Assistant I",
         "Jicun",
         "rthomast@sitemeter.com",
         "86-(248)830-3461",
         "34.0"
        ],
        [
         "30",
         "1281446.0",
         "Deborah",
         "Foster",
         "2046-02-15 00:00:00",
         "Female",
         "Realcube",
         "West Frisian",
         "295-18-9384",
         "Senior Developer",
         "Napnapan",
         "dfosteru@shop-pro.jp",
         "63-(444)632-0989",
         "-31.0"
        ],
        [
         "31",
         "217773.0",
         "Donna",
         "Foster",
         "2071-12-12 00:00:00",
         "Female",
         "Gigaclub",
         "German",
         "286-86-7112",
         "Project Manager",
         "Mora",
         "dfosterv@examiner.com",
         "46-(388)529-2487",
         "-56.0"
        ],
        [
         "32",
         "1043433.0",
         "Ashley",
         "Garcia",
         "2070-08-01 00:00:00",
         "Female",
         "Dabfeed",
         "Bislama",
         "935-24-0969",
         "VP Marketing",
         "Sanjinquan",
         "agarciaw@pagesperso-orange.fr",
         "86-(930)803-2795",
         "-55.0"
        ],
        [
         "33",
         "1242777.0",
         "Sharon",
         "Burton",
         "2057-09-28 00:00:00",
         "Female",
         "Tazz",
         "Khmer",
         "341-48-4229",
         "Tax Accountant",
         "Novhorodka",
         "sburtonx@artisteer.com",
         "380-(485)206-4274",
         "-42.0"
        ],
        [
         "34",
         "826010.0",
         "Ashley",
         "Rice",
         "2050-09-23 00:00:00",
         "Female",
         "Realpoint",
         "Tetum",
         "285-12-1415",
         "Environmental Specialist",
         "Limache",
         "aricey@dailymail.co.uk",
         "56-(710)704-0058",
         "-35.0"
        ],
        [
         "35",
         "286616.0",
         "Shawn",
         "Robertson",
         "2058-05-24 00:00:00",
         "Male",
         "Twinder",
         "Albanian",
         "261-47-7014",
         "Editor",
         "Gandekan",
         "srobertsonz@wsj.com",
         "62-(500)488-5239",
         "-43.0"
        ],
        [
         "36",
         "1192199.0",
         "Robin",
         "Fernandez",
         "2061-11-06 00:00:00",
         "Female",
         "Kayveo",
         "Montenegrin",
         "949-20-5433",
         "Account Representative IV",
         "Tangier",
         "rfernandez10@spiegel.de",
         "212-(502)699-8414",
         "-46.0"
        ],
        [
         "37",
         "1235292.0",
         "Steven",
         "Simpson",
         "1996-01-25 00:00:00",
         "Male",
         "Wikido",
         "Moldovan",
         "981-39-4272",
         "Analog Circuit Design manager",
         "Shamva",
         "ssimpson11@state.gov",
         "263-(704)836-1545",
         "19.0"
        ],
        [
         "38",
         "1236753.0",
         "Cynthia",
         "Meyer",
         "2066-03-16 00:00:00",
         "Female",
         "Skiba",
         "Amharic",
         "712-77-9666",
         "Research Assistant II",
         "Aglalana",
         "cmeyer12@google.nl",
         "63-(155)435-9393",
         "-51.0"
        ],
        [
         "39",
         "977567.0",
         "Gerald",
         "Grant",
         "2065-09-22 00:00:00",
         "Male",
         "Thoughtstorm",
         "Persian",
         "128-99-6835",
         "Technical Writer",
         "Mulan",
         "ggrant13@facebook.com",
         "86-(834)841-9181",
         "-50.0"
        ],
        [
         "40",
         "1252850.0",
         "Virginia",
         "Myers",
         "2048-10-29 00:00:00",
         "Female",
         "Eamia",
         "Fijian",
         "838-98-1024",
         "Structural Engineer",
         "SakÌ©tÌ©",
         "vmyers14@creativecommons.org",
         "229-(166)878-9589",
         "-33.0"
        ],
        [
         "41",
         "34648.0",
         "Lisa",
         "Alexander",
         "1991-04-08 00:00:00",
         "Female",
         "Meevee",
         "Chinese",
         "416-28-2357",
         "Administrative Assistant I",
         "BollÌ¬ne",
         "lalexander15@infoseek.co.jp",
         "33-(789)744-3806",
         "24.0"
        ],
        [
         "42",
         "22090.0",
         "Denise",
         "Mason",
         "2061-10-05 00:00:00",
         "Female",
         "Youtags",
         "Mongolian",
         "998-95-3100",
         "Senior Developer",
         "Juiz de Fora",
         "dmason16@meetup.com",
         "55-(548)359-3698",
         "-46.0"
        ],
        [
         "43",
         "396761.0",
         "Jimmy",
         "Stewart",
         "2066-04-17 00:00:00",
         "Male",
         "Plajo",
         "Punjabi",
         "912-19-2912",
         "Developer II",
         "Dumlan",
         "jstewart17@addtoany.com",
         "63-(425)583-2922",
         "-51.0"
        ],
        [
         "44",
         "1020169.0",
         "Rose",
         "Larson",
         "1996-06-12 00:00:00",
         "Female",
         "Brightdog",
         "Malayalam",
         "699-52-6675",
         "Legal Assistant",
         "Levandeira",
         "rlarson18@businessinsider.com",
         "351-(577)573-8883",
         "19.0"
        ],
        [
         "45",
         "800638.0",
         "Lillian",
         "Porter",
         "2065-08-24 00:00:00",
         "Female",
         "Centizu",
         "Malagasy",
         "354-68-5747",
         "Database Administrator IV",
         "Leskovac",
         "lporter19@businesswire.com",
         "381-(104)445-9520",
         "-50.0"
        ],
        [
         "46",
         "571258.0",
         "Karen",
         "Reed",
         "1993-06-09 00:00:00",
         "Female",
         "Yamia",
         "Punjabi",
         "761-18-7031",
         "Technical Writer",
         "San Juan Bautista",
         "kreed1a@chicagotribune.com",
         "502-(992)913-1460",
         "22.0"
        ],
        [
         "47",
         "1299250.0",
         "Annie",
         "Holmes",
         "1988-09-25 00:00:00",
         "Female",
         "Twitterworks",
         "Ndebele",
         "202-38-7928",
         "Assistant Media Planner",
         "Khilok",
         "aholmes1b@businessweek.com",
         "7-(179)550-6884",
         "27.0"
        ],
        [
         "48",
         "254621.0",
         "Carolyn",
         "Myers",
         "2070-11-01 00:00:00",
         "Female",
         "Skimia",
         "Dzongkha",
         "906-35-4273",
         "Financial Analyst",
         "Lazaro Cardenas",
         "cmyers1c@goodreads.com",
         "52-(321)837-7741",
         "-55.0"
        ],
        [
         "49",
         "291283.0",
         "Janice",
         "Carroll",
         "2073-07-03 00:00:00",
         "Female",
         "Photojam",
         "Haitian Creole",
         "136-27-4932",
         "Junior Executive",
         "Khallat _liü©",
         "jcarroll1d@desdev.cn",
         "970-(718)913-3710",
         "-58.0"
        ]
       ],
       "shape": {
        "columns": 13,
        "rows": 100
       }
      },
      "text/html": [
       "<div>\n",
       "<style scoped>\n",
       "    .dataframe tbody tr th:only-of-type {\n",
       "        vertical-align: middle;\n",
       "    }\n",
       "\n",
       "    .dataframe tbody tr th {\n",
       "        vertical-align: top;\n",
       "    }\n",
       "\n",
       "    .dataframe thead th {\n",
       "        text-align: right;\n",
       "    }\n",
       "</style>\n",
       "<table border=\"1\" class=\"dataframe\">\n",
       "  <thead>\n",
       "    <tr style=\"text-align: right;\">\n",
       "      <th></th>\n",
       "      <th>id</th>\n",
       "      <th>nombre</th>\n",
       "      <th>apellido</th>\n",
       "      <th>nacimiento</th>\n",
       "      <th>genero</th>\n",
       "      <th>empresa</th>\n",
       "      <th>idioma</th>\n",
       "      <th>nit</th>\n",
       "      <th>puesto</th>\n",
       "      <th>ciudad</th>\n",
       "      <th>correo</th>\n",
       "      <th>telefono</th>\n",
       "      <th>age</th>\n",
       "    </tr>\n",
       "  </thead>\n",
       "  <tbody>\n",
       "    <tr>\n",
       "      <th>0</th>\n",
       "      <td>599528.0</td>\n",
       "      <td>Samuel</td>\n",
       "      <td>Ward</td>\n",
       "      <td>1989-04-06</td>\n",
       "      <td>Male</td>\n",
       "      <td>Yakijo</td>\n",
       "      <td>Marathi</td>\n",
       "      <td>411-44-7088</td>\n",
       "      <td>Geologist IV</td>\n",
       "      <td>Wangjing</td>\n",
       "      <td>sward0@tamu.edu</td>\n",
       "      <td>86-(786)608-5061</td>\n",
       "      <td>26.0</td>\n",
       "    </tr>\n",
       "    <tr>\n",
       "      <th>1</th>\n",
       "      <td>121688.0</td>\n",
       "      <td>Willie</td>\n",
       "      <td>Gonzales</td>\n",
       "      <td>2072-06-29</td>\n",
       "      <td>Male</td>\n",
       "      <td>Zoonoodle</td>\n",
       "      <td>Maltese</td>\n",
       "      <td>701-87-7540</td>\n",
       "      <td>Programmer III</td>\n",
       "      <td>El Corozo</td>\n",
       "      <td>wgonzales1@apache.org</td>\n",
       "      <td>58-(265)301-3397</td>\n",
       "      <td>-57.0</td>\n",
       "    </tr>\n",
       "    <tr>\n",
       "      <th>2</th>\n",
       "      <td>552148.0</td>\n",
       "      <td>Betty</td>\n",
       "      <td>Spencer</td>\n",
       "      <td>1983-09-02</td>\n",
       "      <td>Female</td>\n",
       "      <td>Youtags</td>\n",
       "      <td>Dhivehi</td>\n",
       "      <td>373-88-4503</td>\n",
       "      <td>Engineer III</td>\n",
       "      <td>Jinhua</td>\n",
       "      <td>bspencer2@shutterfly.com</td>\n",
       "      <td>86-(195)193-9042</td>\n",
       "      <td>32.0</td>\n",
       "    </tr>\n",
       "    <tr>\n",
       "      <th>3</th>\n",
       "      <td>102019.0</td>\n",
       "      <td>Beverly</td>\n",
       "      <td>Jordan</td>\n",
       "      <td>2072-01-15</td>\n",
       "      <td>Female</td>\n",
       "      <td>Fivespan</td>\n",
       "      <td>Hindi</td>\n",
       "      <td>447-80-5871</td>\n",
       "      <td>Software Test Engineer IV</td>\n",
       "      <td>Salvacion</td>\n",
       "      <td>bjordan3@vimeo.com</td>\n",
       "      <td>63-(652)708-7688</td>\n",
       "      <td>-57.0</td>\n",
       "    </tr>\n",
       "    <tr>\n",
       "      <th>4</th>\n",
       "      <td>189384.0</td>\n",
       "      <td>Cynthia</td>\n",
       "      <td>Flores</td>\n",
       "      <td>2071-02-06</td>\n",
       "      <td>Female</td>\n",
       "      <td>Jabbersphere</td>\n",
       "      <td>Tsonga</td>\n",
       "      <td>803-60-8259</td>\n",
       "      <td>Speech Pathologist</td>\n",
       "      <td>Khorol</td>\n",
       "      <td>cflores4@webeden.co.uk</td>\n",
       "      <td>380-(373)389-5435</td>\n",
       "      <td>-56.0</td>\n",
       "    </tr>\n",
       "    <tr>\n",
       "      <th>...</th>\n",
       "      <td>...</td>\n",
       "      <td>...</td>\n",
       "      <td>...</td>\n",
       "      <td>...</td>\n",
       "      <td>...</td>\n",
       "      <td>...</td>\n",
       "      <td>...</td>\n",
       "      <td>...</td>\n",
       "      <td>...</td>\n",
       "      <td>...</td>\n",
       "      <td>...</td>\n",
       "      <td>...</td>\n",
       "      <td>...</td>\n",
       "    </tr>\n",
       "    <tr>\n",
       "      <th>95</th>\n",
       "      <td>754142.0</td>\n",
       "      <td>Wayne</td>\n",
       "      <td>Cook</td>\n",
       "      <td>2046-11-30</td>\n",
       "      <td>Male</td>\n",
       "      <td>Yombu</td>\n",
       "      <td>Malagasy</td>\n",
       "      <td>424-63-8754</td>\n",
       "      <td>Senior Sales Associate</td>\n",
       "      <td>Illintsi</td>\n",
       "      <td>wcook2n@tripadvisor.com</td>\n",
       "      <td>380-(725)423-4665</td>\n",
       "      <td>-31.0</td>\n",
       "    </tr>\n",
       "    <tr>\n",
       "      <th>96</th>\n",
       "      <td>81688.0</td>\n",
       "      <td>Annie</td>\n",
       "      <td>Hall</td>\n",
       "      <td>1979-10-13</td>\n",
       "      <td>Female</td>\n",
       "      <td>Gabtype</td>\n",
       "      <td>Latvian</td>\n",
       "      <td>949-04-3755</td>\n",
       "      <td>Marketing Assistant</td>\n",
       "      <td>Eslmbd</td>\n",
       "      <td>ahall2o@mysql.com</td>\n",
       "      <td>98-(804)862-5813</td>\n",
       "      <td>36.0</td>\n",
       "    </tr>\n",
       "    <tr>\n",
       "      <th>97</th>\n",
       "      <td>1018325.0</td>\n",
       "      <td>Earl</td>\n",
       "      <td>Thomas</td>\n",
       "      <td>1987-03-10</td>\n",
       "      <td>Male</td>\n",
       "      <td>Twinder</td>\n",
       "      <td>English</td>\n",
       "      <td>691-26-4530</td>\n",
       "      <td>Structural Engineer</td>\n",
       "      <td>KhadÇr</td>\n",
       "      <td>ethomas2p@privacy.gov.au</td>\n",
       "      <td>93-(306)935-3933</td>\n",
       "      <td>28.0</td>\n",
       "    </tr>\n",
       "    <tr>\n",
       "      <th>98</th>\n",
       "      <td>178066.0</td>\n",
       "      <td>Jack</td>\n",
       "      <td>Dunn</td>\n",
       "      <td>2061-06-01</td>\n",
       "      <td>Male</td>\n",
       "      <td>Thoughtstorm</td>\n",
       "      <td>Tok Pisin</td>\n",
       "      <td>964-22-2580</td>\n",
       "      <td>Project Manager</td>\n",
       "      <td>Rjo Khanni</td>\n",
       "      <td>jdunn2q@cam.ac.uk</td>\n",
       "      <td>92-(505)809-8745</td>\n",
       "      <td>-46.0</td>\n",
       "    </tr>\n",
       "    <tr>\n",
       "      <th>99</th>\n",
       "      <td>611548.0</td>\n",
       "      <td>Tina</td>\n",
       "      <td>Lawson</td>\n",
       "      <td>1997-06-27</td>\n",
       "      <td>Female</td>\n",
       "      <td>Photojam</td>\n",
       "      <td>Kyrgyz</td>\n",
       "      <td>626-07-8588</td>\n",
       "      <td>Sales Representative</td>\n",
       "      <td>Dawuhan</td>\n",
       "      <td>tlawson2r@tmall.com</td>\n",
       "      <td>62-(160)939-1218</td>\n",
       "      <td>18.0</td>\n",
       "    </tr>\n",
       "  </tbody>\n",
       "</table>\n",
       "<p>100 rows × 13 columns</p>\n",
       "</div>"
      ],
      "text/plain": [
       "           id   nombre  apellido nacimiento  genero       empresa     idioma  \\\n",
       "0    599528.0   Samuel      Ward 1989-04-06    Male        Yakijo    Marathi   \n",
       "1    121688.0   Willie  Gonzales 2072-06-29    Male     Zoonoodle    Maltese   \n",
       "2    552148.0    Betty   Spencer 1983-09-02  Female       Youtags    Dhivehi   \n",
       "3    102019.0  Beverly    Jordan 2072-01-15  Female      Fivespan      Hindi   \n",
       "4    189384.0  Cynthia    Flores 2071-02-06  Female  Jabbersphere     Tsonga   \n",
       "..        ...      ...       ...        ...     ...           ...        ...   \n",
       "95   754142.0    Wayne      Cook 2046-11-30    Male         Yombu   Malagasy   \n",
       "96    81688.0    Annie      Hall 1979-10-13  Female       Gabtype    Latvian   \n",
       "97  1018325.0     Earl    Thomas 1987-03-10    Male       Twinder    English   \n",
       "98   178066.0     Jack      Dunn 2061-06-01    Male  Thoughtstorm  Tok Pisin   \n",
       "99   611548.0     Tina    Lawson 1997-06-27  Female      Photojam     Kyrgyz   \n",
       "\n",
       "            nit                     puesto          ciudad  \\\n",
       "0   411-44-7088               Geologist IV        Wangjing   \n",
       "1   701-87-7540             Programmer III       El Corozo   \n",
       "2   373-88-4503               Engineer III          Jinhua   \n",
       "3   447-80-5871  Software Test Engineer IV       Salvacion   \n",
       "4   803-60-8259         Speech Pathologist          Khorol   \n",
       "..          ...                        ...             ...   \n",
       "95  424-63-8754     Senior Sales Associate        Illintsi   \n",
       "96  949-04-3755        Marketing Assistant    Eslmbd   \n",
       "97  691-26-4530        Structural Engineer         KhadÇr   \n",
       "98  964-22-2580            Project Manager  Rjo Khanni   \n",
       "99  626-07-8588       Sales Representative         Dawuhan   \n",
       "\n",
       "                      correo           telefono   age  \n",
       "0            sward0@tamu.edu   86-(786)608-5061  26.0  \n",
       "1      wgonzales1@apache.org   58-(265)301-3397 -57.0  \n",
       "2   bspencer2@shutterfly.com   86-(195)193-9042  32.0  \n",
       "3         bjordan3@vimeo.com   63-(652)708-7688 -57.0  \n",
       "4     cflores4@webeden.co.uk  380-(373)389-5435 -56.0  \n",
       "..                       ...                ...   ...  \n",
       "95   wcook2n@tripadvisor.com  380-(725)423-4665 -31.0  \n",
       "96         ahall2o@mysql.com   98-(804)862-5813  36.0  \n",
       "97  ethomas2p@privacy.gov.au   93-(306)935-3933  28.0  \n",
       "98         jdunn2q@cam.ac.uk   92-(505)809-8745 -46.0  \n",
       "99       tlawson2r@tmall.com   62-(160)939-1218  18.0  \n",
       "\n",
       "[100 rows x 13 columns]"
      ]
     },
     "execution_count": 3,
     "metadata": {},
     "output_type": "execute_result"
    }
   ],
   "source": [
    "# Exploratory Data Analysis (EDA)\n",
    "clientes[\"nacimiento\"]=pd.to_datetime(clientes[\"nacimiento\"], errors='coerce')\n",
    "clientes[\"age\"]=clientes[\"nacimiento\"].apply(lambda x: 2015-x.year if pd.notnull(x) else np.nan)\n",
    "clientes.head(100)\n"
   ]
  },
  {
   "cell_type": "code",
   "execution_count": 4,
   "id": "ecac3a91",
   "metadata": {},
   "outputs": [
    {
     "data": {
      "application/vnd.microsoft.datawrangler.viewer.v0+json": {
       "columns": [
        {
         "name": "index",
         "rawType": "object",
         "type": "string"
        },
        {
         "name": "id",
         "rawType": "float64",
         "type": "float"
        },
        {
         "name": "nombre",
         "rawType": "object",
         "type": "unknown"
        },
        {
         "name": "apellido",
         "rawType": "object",
         "type": "unknown"
        },
        {
         "name": "nacimiento",
         "rawType": "object",
         "type": "unknown"
        },
        {
         "name": "genero",
         "rawType": "object",
         "type": "unknown"
        },
        {
         "name": "empresa",
         "rawType": "object",
         "type": "unknown"
        },
        {
         "name": "idioma",
         "rawType": "object",
         "type": "unknown"
        },
        {
         "name": "nit",
         "rawType": "object",
         "type": "unknown"
        },
        {
         "name": "puesto",
         "rawType": "object",
         "type": "unknown"
        },
        {
         "name": "ciudad",
         "rawType": "object",
         "type": "unknown"
        },
        {
         "name": "correo",
         "rawType": "object",
         "type": "unknown"
        },
        {
         "name": "telefono",
         "rawType": "object",
         "type": "unknown"
        },
        {
         "name": "age",
         "rawType": "float64",
         "type": "float"
        }
       ],
       "ref": "e0109084-013a-485a-af43-25037f02536c",
       "rows": [
        [
         "count",
         "11719.0",
         "11719",
         "11719",
         "11719",
         "11719",
         "11719",
         "11719",
         "11719",
         "11719",
         "11719",
         "11719",
         "11719",
         "11719.0"
        ],
        [
         "unique",
         null,
         "4648",
         "6467",
         null,
         "2",
         "383",
         "97",
         "11719",
         "195",
         "9356",
         "11719",
         "11719",
         null
        ],
        [
         "top",
         null,
         "Angela",
         "Morris",
         null,
         "Female",
         "Voomm",
         "Mongolian",
         "411-44-7088",
         "Compensation Analyst",
         "Stockholm",
         "sward0@tamu.edu",
         "86-(786)608-5061",
         null
        ],
        [
         "freq",
         null,
         "42",
         "33",
         null,
         "5895",
         "71",
         "143",
         "1",
         "127",
         "22",
         "1",
         "1",
         null
        ],
        [
         "mean",
         "709985.5806809454",
         null,
         null,
         "2008-07-23 12:48:50.625479936",
         null,
         null,
         null,
         null,
         null,
         null,
         null,
         null,
         "6.935660039252496"
        ],
        [
         "min",
         "172.0",
         null,
         null,
         "1975-01-04 00:00:00",
         null,
         null,
         null,
         null,
         null,
         null,
         null,
         null,
         "-59.0"
        ],
        [
         "25%",
         "359119.5",
         null,
         null,
         "1989-11-27 12:00:00",
         null,
         null,
         null,
         null,
         null,
         null,
         null,
         null,
         "-25.0"
        ],
        [
         "50%",
         "718314.0",
         null,
         null,
         "1995-03-15 00:00:00",
         null,
         null,
         null,
         null,
         null,
         null,
         null,
         null,
         "20.0"
        ],
        [
         "75%",
         "1062739.0",
         null,
         null,
         "2040-07-24 12:00:00",
         null,
         null,
         null,
         null,
         null,
         null,
         null,
         null,
         "26.0"
        ],
        [
         "max",
         "1407398.0",
         null,
         null,
         "2074-12-28 00:00:00",
         null,
         null,
         null,
         null,
         null,
         null,
         null,
         null,
         "40.0"
        ],
        [
         "std",
         "405828.6771893484",
         null,
         null,
         null,
         null,
         null,
         null,
         null,
         null,
         null,
         null,
         null,
         "29.337134766929594"
        ]
       ],
       "shape": {
        "columns": 13,
        "rows": 11
       }
      },
      "text/html": [
       "<div>\n",
       "<style scoped>\n",
       "    .dataframe tbody tr th:only-of-type {\n",
       "        vertical-align: middle;\n",
       "    }\n",
       "\n",
       "    .dataframe tbody tr th {\n",
       "        vertical-align: top;\n",
       "    }\n",
       "\n",
       "    .dataframe thead th {\n",
       "        text-align: right;\n",
       "    }\n",
       "</style>\n",
       "<table border=\"1\" class=\"dataframe\">\n",
       "  <thead>\n",
       "    <tr style=\"text-align: right;\">\n",
       "      <th></th>\n",
       "      <th>id</th>\n",
       "      <th>nombre</th>\n",
       "      <th>apellido</th>\n",
       "      <th>nacimiento</th>\n",
       "      <th>genero</th>\n",
       "      <th>empresa</th>\n",
       "      <th>idioma</th>\n",
       "      <th>nit</th>\n",
       "      <th>puesto</th>\n",
       "      <th>ciudad</th>\n",
       "      <th>correo</th>\n",
       "      <th>telefono</th>\n",
       "      <th>age</th>\n",
       "    </tr>\n",
       "  </thead>\n",
       "  <tbody>\n",
       "    <tr>\n",
       "      <th>count</th>\n",
       "      <td>1.171900e+04</td>\n",
       "      <td>11719</td>\n",
       "      <td>11719</td>\n",
       "      <td>11719</td>\n",
       "      <td>11719</td>\n",
       "      <td>11719</td>\n",
       "      <td>11719</td>\n",
       "      <td>11719</td>\n",
       "      <td>11719</td>\n",
       "      <td>11719</td>\n",
       "      <td>11719</td>\n",
       "      <td>11719</td>\n",
       "      <td>11719.000000</td>\n",
       "    </tr>\n",
       "    <tr>\n",
       "      <th>unique</th>\n",
       "      <td>NaN</td>\n",
       "      <td>4648</td>\n",
       "      <td>6467</td>\n",
       "      <td>NaN</td>\n",
       "      <td>2</td>\n",
       "      <td>383</td>\n",
       "      <td>97</td>\n",
       "      <td>11719</td>\n",
       "      <td>195</td>\n",
       "      <td>9356</td>\n",
       "      <td>11719</td>\n",
       "      <td>11719</td>\n",
       "      <td>NaN</td>\n",
       "    </tr>\n",
       "    <tr>\n",
       "      <th>top</th>\n",
       "      <td>NaN</td>\n",
       "      <td>Angela</td>\n",
       "      <td>Morris</td>\n",
       "      <td>NaN</td>\n",
       "      <td>Female</td>\n",
       "      <td>Voomm</td>\n",
       "      <td>Mongolian</td>\n",
       "      <td>411-44-7088</td>\n",
       "      <td>Compensation Analyst</td>\n",
       "      <td>Stockholm</td>\n",
       "      <td>sward0@tamu.edu</td>\n",
       "      <td>86-(786)608-5061</td>\n",
       "      <td>NaN</td>\n",
       "    </tr>\n",
       "    <tr>\n",
       "      <th>freq</th>\n",
       "      <td>NaN</td>\n",
       "      <td>42</td>\n",
       "      <td>33</td>\n",
       "      <td>NaN</td>\n",
       "      <td>5895</td>\n",
       "      <td>71</td>\n",
       "      <td>143</td>\n",
       "      <td>1</td>\n",
       "      <td>127</td>\n",
       "      <td>22</td>\n",
       "      <td>1</td>\n",
       "      <td>1</td>\n",
       "      <td>NaN</td>\n",
       "    </tr>\n",
       "    <tr>\n",
       "      <th>mean</th>\n",
       "      <td>7.099856e+05</td>\n",
       "      <td>NaN</td>\n",
       "      <td>NaN</td>\n",
       "      <td>2008-07-23 12:48:50.625479936</td>\n",
       "      <td>NaN</td>\n",
       "      <td>NaN</td>\n",
       "      <td>NaN</td>\n",
       "      <td>NaN</td>\n",
       "      <td>NaN</td>\n",
       "      <td>NaN</td>\n",
       "      <td>NaN</td>\n",
       "      <td>NaN</td>\n",
       "      <td>6.935660</td>\n",
       "    </tr>\n",
       "    <tr>\n",
       "      <th>min</th>\n",
       "      <td>1.720000e+02</td>\n",
       "      <td>NaN</td>\n",
       "      <td>NaN</td>\n",
       "      <td>1975-01-04 00:00:00</td>\n",
       "      <td>NaN</td>\n",
       "      <td>NaN</td>\n",
       "      <td>NaN</td>\n",
       "      <td>NaN</td>\n",
       "      <td>NaN</td>\n",
       "      <td>NaN</td>\n",
       "      <td>NaN</td>\n",
       "      <td>NaN</td>\n",
       "      <td>-59.000000</td>\n",
       "    </tr>\n",
       "    <tr>\n",
       "      <th>25%</th>\n",
       "      <td>3.591195e+05</td>\n",
       "      <td>NaN</td>\n",
       "      <td>NaN</td>\n",
       "      <td>1989-11-27 12:00:00</td>\n",
       "      <td>NaN</td>\n",
       "      <td>NaN</td>\n",
       "      <td>NaN</td>\n",
       "      <td>NaN</td>\n",
       "      <td>NaN</td>\n",
       "      <td>NaN</td>\n",
       "      <td>NaN</td>\n",
       "      <td>NaN</td>\n",
       "      <td>-25.000000</td>\n",
       "    </tr>\n",
       "    <tr>\n",
       "      <th>50%</th>\n",
       "      <td>7.183140e+05</td>\n",
       "      <td>NaN</td>\n",
       "      <td>NaN</td>\n",
       "      <td>1995-03-15 00:00:00</td>\n",
       "      <td>NaN</td>\n",
       "      <td>NaN</td>\n",
       "      <td>NaN</td>\n",
       "      <td>NaN</td>\n",
       "      <td>NaN</td>\n",
       "      <td>NaN</td>\n",
       "      <td>NaN</td>\n",
       "      <td>NaN</td>\n",
       "      <td>20.000000</td>\n",
       "    </tr>\n",
       "    <tr>\n",
       "      <th>75%</th>\n",
       "      <td>1.062739e+06</td>\n",
       "      <td>NaN</td>\n",
       "      <td>NaN</td>\n",
       "      <td>2040-07-24 12:00:00</td>\n",
       "      <td>NaN</td>\n",
       "      <td>NaN</td>\n",
       "      <td>NaN</td>\n",
       "      <td>NaN</td>\n",
       "      <td>NaN</td>\n",
       "      <td>NaN</td>\n",
       "      <td>NaN</td>\n",
       "      <td>NaN</td>\n",
       "      <td>26.000000</td>\n",
       "    </tr>\n",
       "    <tr>\n",
       "      <th>max</th>\n",
       "      <td>1.407398e+06</td>\n",
       "      <td>NaN</td>\n",
       "      <td>NaN</td>\n",
       "      <td>2074-12-28 00:00:00</td>\n",
       "      <td>NaN</td>\n",
       "      <td>NaN</td>\n",
       "      <td>NaN</td>\n",
       "      <td>NaN</td>\n",
       "      <td>NaN</td>\n",
       "      <td>NaN</td>\n",
       "      <td>NaN</td>\n",
       "      <td>NaN</td>\n",
       "      <td>40.000000</td>\n",
       "    </tr>\n",
       "    <tr>\n",
       "      <th>std</th>\n",
       "      <td>4.058287e+05</td>\n",
       "      <td>NaN</td>\n",
       "      <td>NaN</td>\n",
       "      <td>NaN</td>\n",
       "      <td>NaN</td>\n",
       "      <td>NaN</td>\n",
       "      <td>NaN</td>\n",
       "      <td>NaN</td>\n",
       "      <td>NaN</td>\n",
       "      <td>NaN</td>\n",
       "      <td>NaN</td>\n",
       "      <td>NaN</td>\n",
       "      <td>29.337135</td>\n",
       "    </tr>\n",
       "  </tbody>\n",
       "</table>\n",
       "</div>"
      ],
      "text/plain": [
       "                  id  nombre apellido                     nacimiento  genero  \\\n",
       "count   1.171900e+04   11719    11719                          11719   11719   \n",
       "unique           NaN    4648     6467                            NaN       2   \n",
       "top              NaN  Angela   Morris                            NaN  Female   \n",
       "freq             NaN      42       33                            NaN    5895   \n",
       "mean    7.099856e+05     NaN      NaN  2008-07-23 12:48:50.625479936     NaN   \n",
       "min     1.720000e+02     NaN      NaN            1975-01-04 00:00:00     NaN   \n",
       "25%     3.591195e+05     NaN      NaN            1989-11-27 12:00:00     NaN   \n",
       "50%     7.183140e+05     NaN      NaN            1995-03-15 00:00:00     NaN   \n",
       "75%     1.062739e+06     NaN      NaN            2040-07-24 12:00:00     NaN   \n",
       "max     1.407398e+06     NaN      NaN            2074-12-28 00:00:00     NaN   \n",
       "std     4.058287e+05     NaN      NaN                            NaN     NaN   \n",
       "\n",
       "       empresa     idioma          nit                puesto     ciudad  \\\n",
       "count    11719      11719        11719                 11719      11719   \n",
       "unique     383         97        11719                   195       9356   \n",
       "top      Voomm  Mongolian  411-44-7088  Compensation Analyst  Stockholm   \n",
       "freq        71        143            1                   127         22   \n",
       "mean       NaN        NaN          NaN                   NaN        NaN   \n",
       "min        NaN        NaN          NaN                   NaN        NaN   \n",
       "25%        NaN        NaN          NaN                   NaN        NaN   \n",
       "50%        NaN        NaN          NaN                   NaN        NaN   \n",
       "75%        NaN        NaN          NaN                   NaN        NaN   \n",
       "max        NaN        NaN          NaN                   NaN        NaN   \n",
       "std        NaN        NaN          NaN                   NaN        NaN   \n",
       "\n",
       "                 correo          telefono           age  \n",
       "count             11719             11719  11719.000000  \n",
       "unique            11719             11719           NaN  \n",
       "top     sward0@tamu.edu  86-(786)608-5061           NaN  \n",
       "freq                  1                 1           NaN  \n",
       "mean                NaN               NaN      6.935660  \n",
       "min                 NaN               NaN    -59.000000  \n",
       "25%                 NaN               NaN    -25.000000  \n",
       "50%                 NaN               NaN     20.000000  \n",
       "75%                 NaN               NaN     26.000000  \n",
       "max                 NaN               NaN     40.000000  \n",
       "std                 NaN               NaN     29.337135  "
      ]
     },
     "execution_count": 4,
     "metadata": {},
     "output_type": "execute_result"
    }
   ],
   "source": [
    "#Calcular estadísticas descriptivas\n",
    "clientes.describe(include=\"all\")"
   ]
  },
  {
   "cell_type": "code",
   "execution_count": 5,
   "id": "4aee60aa",
   "metadata": {},
   "outputs": [
    {
     "data": {
      "application/vnd.microsoft.datawrangler.viewer.v0+json": {
       "columns": [
        {
         "name": "index",
         "rawType": "object",
         "type": "string"
        },
        {
         "name": "0",
         "rawType": "int64",
         "type": "integer"
        }
       ],
       "ref": "817e7d05-1fc5-444a-ae76-a919e6984b24",
       "rows": [
        [
         "id",
         "281"
        ],
        [
         "nombre",
         "281"
        ],
        [
         "apellido",
         "281"
        ],
        [
         "nacimiento",
         "281"
        ],
        [
         "genero",
         "281"
        ],
        [
         "empresa",
         "281"
        ],
        [
         "idioma",
         "281"
        ],
        [
         "nit",
         "281"
        ],
        [
         "puesto",
         "281"
        ],
        [
         "ciudad",
         "281"
        ],
        [
         "correo",
         "281"
        ],
        [
         "telefono",
         "281"
        ],
        [
         "age",
         "281"
        ]
       ],
       "shape": {
        "columns": 1,
        "rows": 13
       }
      },
      "text/plain": [
       "id            281\n",
       "nombre        281\n",
       "apellido      281\n",
       "nacimiento    281\n",
       "genero        281\n",
       "empresa       281\n",
       "idioma        281\n",
       "nit           281\n",
       "puesto        281\n",
       "ciudad        281\n",
       "correo        281\n",
       "telefono      281\n",
       "age           281\n",
       "dtype: int64"
      ]
     },
     "execution_count": 5,
     "metadata": {},
     "output_type": "execute_result"
    }
   ],
   "source": [
    "# Verificar valores nulos\n",
    "clientes.isnull().sum()"
   ]
  },
  {
   "cell_type": "code",
   "execution_count": 6,
   "id": "268ef834",
   "metadata": {},
   "outputs": [
    {
     "name": "stderr",
     "output_type": "stream",
     "text": [
      "C:\\Users\\raule\\AppData\\Local\\Temp\\ipykernel_19640\\3362185546.py:5: FutureWarning: \n",
      "\n",
      "Passing `palette` without assigning `hue` is deprecated and will be removed in v0.14.0. Assign the `x` variable to `hue` and set `legend=False` for the same effect.\n",
      "\n",
      "  sns.barplot(data=filtered_clientes, x='ciudad', y='cantidad', palette='Set2')\n"
     ]
    },
    {
     "data": {
      "image/png": "[encoded data removed]",
      "text/plain": [
       "<Figure size 1000x600 with 1 Axes>"
      ]
     },
     "metadata": {},
     "output_type": "display_data"
    }
   ],
   "source": [
    "#Top 10 ciudades\n",
    "filtered_clientes = clientes[clientes['ciudad'].notnull()].groupby('ciudad').size().reset_index(name='cantidad')\n",
    "filtered_clientes = filtered_clientes.nlargest(10, 'cantidad')\n",
    "plt.figure(figsize=(10, 6))\n",
    "sns.barplot(data=filtered_clientes, x='ciudad', y='cantidad', palette='Set2')\n",
    "plt.title('Top 10 Ciudades con Más Clientes')\n",
    "plt.xlabel('Ciudad')\n",
    "plt.ylabel('Cantidad de Clientes')\n",
    "plt.xticks(rotation=90)\n",
    "plt.show()\n"
   ]
  },
  {
   "cell_type": "code",
   "execution_count": 7,
   "id": "f917d06a",
   "metadata": {},
   "outputs": [
    {
     "name": "stderr",
     "output_type": "stream",
     "text": [
      "C:\\Users\\raule\\AppData\\Local\\Temp\\ipykernel_19640\\2981757833.py:5: FutureWarning: \n",
      "\n",
      "Passing `palette` without assigning `hue` is deprecated and will be removed in v0.14.0. Assign the `x` variable to `hue` and set `legend=False` for the same effect.\n",
      "\n",
      "  sns.barplot(data=filtered_language, x='idioma', y='cantidad', palette='Set2')\n"
     ]
    },
    {
     "data": {
      "image/png": "[encoded data removed]",
      "text/plain": [
       "<Figure size 1000x600 with 1 Axes>"
      ]
     },
     "metadata": {},
     "output_type": "display_data"
    }
   ],
   "source": [
    "#Top 10 idiomas \n",
    "filtered_language = clientes[clientes['idioma'].notnull()].groupby('idioma').size().reset_index(name='cantidad')\n",
    "filtered_language = filtered_language.nlargest(10, 'cantidad')\n",
    "plt.figure(figsize=(10, 6))\n",
    "sns.barplot(data=filtered_language, x='idioma', y='cantidad', palette='Set2')\n",
    "plt.title('Top 10 Idiomas con Más Clientes')\n",
    "plt.xlabel('Idioma')\n",
    "plt.ylabel('Cantidad de Clientes')\n",
    "plt.xticks(rotation=90)\n",
    "plt.show()\n"
   ]
  },
  {
   "cell_type": "code",
   "execution_count": 8,
   "id": "ba59aa87",
   "metadata": {},
   "outputs": [
    {
     "name": "stderr",
     "output_type": "stream",
     "text": [
      "C:\\Users\\raule\\AppData\\Local\\Temp\\ipykernel_19640\\3755857638.py:4: FutureWarning: \n",
      "\n",
      "Passing `palette` without assigning `hue` is deprecated and will be removed in v0.14.0. Assign the `x` variable to `hue` and set `legend=False` for the same effect.\n",
      "\n",
      "  sns.barplot(data=filtered_age, x='age', y='cantidad', palette='Set2')\n"
     ]
    },
    {
     "data": {
      "image/png": "[encoded data removed]",
      "text/plain": [
       "<Figure size 1000x600 with 1 Axes>"
      ]
     },
     "metadata": {},
     "output_type": "display_data"
    }
   ],
   "source": [
    "filtered_age = clientes[clientes['age'].notnull()].groupby('age').size().reset_index(name='cantidad')\n",
    "filtered_age = filtered_age.nlargest(10, 'cantidad')\n",
    "plt.figure(figsize=(10, 6))\n",
    "sns.barplot(data=filtered_age, x='age', y='cantidad', palette='Set2')\n",
    "plt.title('Top 10 Edades con Más Clientes')\n",
    "plt.xlabel('Edad')\n",
    "plt.ylabel('Cantidad de Clientes')\n",
    "plt.xticks(rotation=90)\n",
    "plt.show()\n"
   ]
  },
  {
   "cell_type": "code",
   "execution_count": 9,
   "id": "2b3e9c00",
   "metadata": {},
   "outputs": [
    {
     "name": "stderr",
     "output_type": "stream",
     "text": [
      "C:\\Users\\raule\\AppData\\Local\\Temp\\ipykernel_19640\\3390009246.py:4: FutureWarning: \n",
      "\n",
      "Passing `palette` without assigning `hue` is deprecated and will be removed in v0.14.0. Assign the `x` variable to `hue` and set `legend=False` for the same effect.\n",
      "\n",
      "  sns.barplot(data=filtered_gender, x='genero', y='cantidad', palette='Set2')\n"
     ]
    },
    {
     "data": {
      "image/png": "[encoded data removed]",
      "text/plain": [
       "<Figure size 1000x600 with 1 Axes>"
      ]
     },
     "metadata": {},
     "output_type": "display_data"
    }
   ],
   "source": [
    "filtered_gender = clientes[clientes['genero'].notnull()].groupby('genero').size().reset_index(name='cantidad')\n",
    "filtered_gender = filtered_gender.nlargest(2, 'cantidad')\n",
    "plt.figure(figsize=(10, 6))\n",
    "sns.barplot(data=filtered_gender, x='genero', y='cantidad', palette='Set2')\n",
    "plt.title('Top Géneros con Más Clientes')\n",
    "plt.xlabel('Género')\n",
    "plt.ylabel('Cantidad de Clientes')\n",
    "plt.xticks(rotation=90)\n",
    "plt.show()\n"
   ]
  },
  {
   "cell_type": "code",
   "execution_count": 46,
   "id": "ce61b1ca",
   "metadata": {},
   "outputs": [
    {
     "data": {
      "image/png": "[encoded data removed]",
      "text/plain": [
       "<Figure size 1000x600 with 1 Axes>"
      ]
     },
     "metadata": {},
     "output_type": "display_data"
    }
   ],
   "source": [
    "#distribucion edades\n",
    "plt.figure(figsize=(10, 6))\n",
    "plt.hist(clientes[clientes['age'] > 0]['age'], bins=20, color='skyblue', edgecolor='black')\n",
    "plt.xlabel('Edad')\n",
    "plt.ylabel('Cantidad de Usuarios')\n",
    "plt.title('Distribución de Edades de Usuarios')\n",
    "plt.xticks(rotation=45)\n",
    "plt.tight_layout()\n",
    "plt.show()\n"
   ]
  },
  {
   "cell_type": "code",
   "execution_count": 10,
   "id": "1e0bbbb5",
   "metadata": {},
   "outputs": [
    {
     "name": "stderr",
     "output_type": "stream",
     "text": [
      "C:\\Users\\raule\\AppData\\Local\\Temp\\ipykernel_19640\\1921704996.py:4: FutureWarning: \n",
      "\n",
      "Passing `palette` without assigning `hue` is deprecated and will be removed in v0.14.0. Assign the `x` variable to `hue` and set `legend=False` for the same effect.\n",
      "\n",
      "  sns.barplot(data=top_puesto, x='puesto', y='cantidad', palette='Set2')\n"
     ]
    },
    {
     "data": {
      "image/png": "[encoded data removed]",
      "text/plain": [
       "<Figure size 1000x600 with 1 Axes>"
      ]
     },
     "metadata": {},
     "output_type": "display_data"
    }
   ],
   "source": [
    "top_puesto=clientes[clientes['puesto'].notnull()].groupby('puesto').size().reset_index(name='cantidad')\n",
    "top_puesto = top_puesto.nlargest(10, 'cantidad')\n",
    "plt.figure(figsize=(10, 6))\n",
    "sns.barplot(data=top_puesto, x='puesto', y='cantidad', palette='Set2')\n",
    "plt.title('Top 10 Puestos con Más Clientes')\n",
    "plt.xlabel('Puesto')\n",
    "plt.ylabel('Cantidad de Clientes')\n",
    "plt.xticks(rotation=90)\n",
    "plt.show()\n"
   ]
  },
  {
   "cell_type": "code",
   "execution_count": null,
   "id": "809767ca",
   "metadata": {},
   "outputs": [],
   "source": []
  },
  {
   "cell_type": "code",
   "execution_count": 11,
   "id": "3852004f",
   "metadata": {},
   "outputs": [
    {
     "data": {
      "application/vnd.microsoft.datawrangler.viewer.v0+json": {
       "columns": [
        {
         "name": "index",
         "rawType": "int64",
         "type": "integer"
        },
        {
         "name": "id",
         "rawType": "int64",
         "type": "integer"
        },
        {
         "name": "categoria",
         "rawType": "object",
         "type": "string"
        }
       ],
       "ref": "6ffb6933-2e04-41a3-ae16-38c674703cc1",
       "rows": [
        [
         "0",
         "1",
         "SCOTCH WHISKIES"
        ],
        [
         "1",
         "2",
         "STRAIGHT BOURBON WHISKIES"
        ],
        [
         "2",
         "3",
         "BLENDED WHISKIES"
        ],
        [
         "3",
         "4",
         "IMPORTED DRY GINS"
        ],
        [
         "4",
         "5",
         "DECANTERS & SPECIALTY PACKAGES"
        ]
       ],
       "shape": {
        "columns": 2,
        "rows": 5
       }
      },
      "text/html": [
       "<div>\n",
       "<style scoped>\n",
       "    .dataframe tbody tr th:only-of-type {\n",
       "        vertical-align: middle;\n",
       "    }\n",
       "\n",
       "    .dataframe tbody tr th {\n",
       "        vertical-align: top;\n",
       "    }\n",
       "\n",
       "    .dataframe thead th {\n",
       "        text-align: right;\n",
       "    }\n",
       "</style>\n",
       "<table border=\"1\" class=\"dataframe\">\n",
       "  <thead>\n",
       "    <tr style=\"text-align: right;\">\n",
       "      <th></th>\n",
       "      <th>id</th>\n",
       "      <th>categoria</th>\n",
       "    </tr>\n",
       "  </thead>\n",
       "  <tbody>\n",
       "    <tr>\n",
       "      <th>0</th>\n",
       "      <td>1</td>\n",
       "      <td>SCOTCH WHISKIES</td>\n",
       "    </tr>\n",
       "    <tr>\n",
       "      <th>1</th>\n",
       "      <td>2</td>\n",
       "      <td>STRAIGHT BOURBON WHISKIES</td>\n",
       "    </tr>\n",
       "    <tr>\n",
       "      <th>2</th>\n",
       "      <td>3</td>\n",
       "      <td>BLENDED WHISKIES</td>\n",
       "    </tr>\n",
       "    <tr>\n",
       "      <th>3</th>\n",
       "      <td>4</td>\n",
       "      <td>IMPORTED DRY GINS</td>\n",
       "    </tr>\n",
       "    <tr>\n",
       "      <th>4</th>\n",
       "      <td>5</td>\n",
       "      <td>DECANTERS &amp; SPECIALTY PACKAGES</td>\n",
       "    </tr>\n",
       "  </tbody>\n",
       "</table>\n",
       "</div>"
      ],
      "text/plain": [
       "   id                       categoria\n",
       "0   1                 SCOTCH WHISKIES\n",
       "1   2       STRAIGHT BOURBON WHISKIES\n",
       "2   3                BLENDED WHISKIES\n",
       "3   4               IMPORTED DRY GINS\n",
       "4   5  DECANTERS & SPECIALTY PACKAGES"
      ]
     },
     "execution_count": 11,
     "metadata": {},
     "output_type": "execute_result"
    }
   ],
   "source": [
    "categorias.head(5)\n"
   ]
  },
  {
   "cell_type": "code",
   "execution_count": 12,
   "id": "1d4887b4",
   "metadata": {},
   "outputs": [
    {
     "data": {
      "application/vnd.microsoft.datawrangler.viewer.v0+json": {
       "columns": [
        {
         "name": "index",
         "rawType": "int64",
         "type": "integer"
        },
        {
         "name": "timestamp",
         "rawType": "datetime64[ns]",
         "type": "datetime"
        },
        {
         "name": "visitorid",
         "rawType": "category",
         "type": "unknown"
        },
        {
         "name": "event",
         "rawType": "object",
         "type": "string"
        },
        {
         "name": "itemid",
         "rawType": "category",
         "type": "unknown"
        },
        {
         "name": "transactionid",
         "rawType": "float64",
         "type": "float"
        }
       ],
       "ref": "0b22e3ae-4fd2-460d-be3a-2bdf7e5d6d6e",
       "rows": [
        [
         "0",
         "2015-06-02 05:02:12.117000",
         "257597",
         "view",
         "355908",
         null
        ],
        [
         "1",
         "2015-06-02 05:50:14.164000",
         "992329",
         "view",
         "248676",
         null
        ],
        [
         "2",
         "2015-06-02 05:13:19.827000",
         "111016",
         "view",
         "318965",
         null
        ],
        [
         "3",
         "2015-06-02 05:12:35.914000",
         "483717",
         "view",
         "253185",
         null
        ],
        [
         "4",
         "2015-06-02 05:02:17.106000",
         "951259",
         "view",
         "367447",
         null
        ]
       ],
       "shape": {
        "columns": 5,
        "rows": 5
       }
      },
      "text/html": [
       "<div>\n",
       "<style scoped>\n",
       "    .dataframe tbody tr th:only-of-type {\n",
       "        vertical-align: middle;\n",
       "    }\n",
       "\n",
       "    .dataframe tbody tr th {\n",
       "        vertical-align: top;\n",
       "    }\n",
       "\n",
       "    .dataframe thead th {\n",
       "        text-align: right;\n",
       "    }\n",
       "</style>\n",
       "<table border=\"1\" class=\"dataframe\">\n",
       "  <thead>\n",
       "    <tr style=\"text-align: right;\">\n",
       "      <th></th>\n",
       "      <th>timestamp</th>\n",
       "      <th>visitorid</th>\n",
       "      <th>event</th>\n",
       "      <th>itemid</th>\n",
       "      <th>transactionid</th>\n",
       "    </tr>\n",
       "  </thead>\n",
       "  <tbody>\n",
       "    <tr>\n",
       "      <th>0</th>\n",
       "      <td>2015-06-02 05:02:12.117</td>\n",
       "      <td>257597</td>\n",
       "      <td>view</td>\n",
       "      <td>355908</td>\n",
       "      <td>NaN</td>\n",
       "    </tr>\n",
       "    <tr>\n",
       "      <th>1</th>\n",
       "      <td>2015-06-02 05:50:14.164</td>\n",
       "      <td>992329</td>\n",
       "      <td>view</td>\n",
       "      <td>248676</td>\n",
       "      <td>NaN</td>\n",
       "    </tr>\n",
       "    <tr>\n",
       "      <th>2</th>\n",
       "      <td>2015-06-02 05:13:19.827</td>\n",
       "      <td>111016</td>\n",
       "      <td>view</td>\n",
       "      <td>318965</td>\n",
       "      <td>NaN</td>\n",
       "    </tr>\n",
       "    <tr>\n",
       "      <th>3</th>\n",
       "      <td>2015-06-02 05:12:35.914</td>\n",
       "      <td>483717</td>\n",
       "      <td>view</td>\n",
       "      <td>253185</td>\n",
       "      <td>NaN</td>\n",
       "    </tr>\n",
       "    <tr>\n",
       "      <th>4</th>\n",
       "      <td>2015-06-02 05:02:17.106</td>\n",
       "      <td>951259</td>\n",
       "      <td>view</td>\n",
       "      <td>367447</td>\n",
       "      <td>NaN</td>\n",
       "    </tr>\n",
       "  </tbody>\n",
       "</table>\n",
       "</div>"
      ],
      "text/plain": [
       "                timestamp visitorid event  itemid  transactionid\n",
       "0 2015-06-02 05:02:12.117    257597  view  355908            NaN\n",
       "1 2015-06-02 05:50:14.164    992329  view  248676            NaN\n",
       "2 2015-06-02 05:13:19.827    111016  view  318965            NaN\n",
       "3 2015-06-02 05:12:35.914    483717  view  253185            NaN\n",
       "4 2015-06-02 05:02:17.106    951259  view  367447            NaN"
      ]
     },
     "execution_count": 12,
     "metadata": {},
     "output_type": "execute_result"
    }
   ],
   "source": [
    "events[\"visitorid\"]=events[\"visitorid\"].astype(\"category\")\n",
    "events[\"itemid\"]=events[\"itemid\"].astype(\"category\")\n",
    "events[\"timestamp\"]=pd.to_datetime(events[\"timestamp\"], unit=\"ms\")\n",
    "events.head(5)\n"
   ]
  },
  {
   "cell_type": "code",
   "execution_count": 13,
   "id": "b0d45f47",
   "metadata": {},
   "outputs": [
    {
     "data": {
      "application/vnd.microsoft.datawrangler.viewer.v0+json": {
       "columns": [
        {
         "name": "index",
         "rawType": "object",
         "type": "string"
        },
        {
         "name": "timestamp",
         "rawType": "object",
         "type": "unknown"
        },
        {
         "name": "visitorid",
         "rawType": "float64",
         "type": "float"
        },
        {
         "name": "event",
         "rawType": "object",
         "type": "unknown"
        },
        {
         "name": "itemid",
         "rawType": "float64",
         "type": "float"
        },
        {
         "name": "transactionid",
         "rawType": "float64",
         "type": "float"
        }
       ],
       "ref": "ab4cde3c-d936-41cb-b7f8-949109d0fd29",
       "rows": [
        [
         "count",
         "2756101",
         "2756101.0",
         "2756101",
         "2756101.0",
         "22457.0"
        ],
        [
         "unique",
         null,
         "1407580.0",
         "3",
         "235061.0",
         null
        ],
        [
         "top",
         null,
         "1150086.0",
         "view",
         "187946.0",
         null
        ],
        [
         "freq",
         null,
         "7757.0",
         "2664312",
         "3412.0",
         null
        ],
        [
         "mean",
         "2015-07-09 06:48:08.348103680",
         null,
         null,
         null,
         "8826.497795787505"
        ],
        [
         "min",
         "2015-05-03 03:00:04.384000",
         null,
         null,
         null,
         "0.0"
        ],
        [
         "25%",
         "2015-06-05 04:23:14.792000",
         null,
         null,
         null,
         "4411.0"
        ],
        [
         "50%",
         "2015-07-09 14:43:33.599000064",
         null,
         null,
         null,
         "8813.0"
        ],
        [
         "75%",
         "2015-08-10 16:45:05.168000",
         null,
         null,
         null,
         "13224.0"
        ],
        [
         "max",
         "2015-09-18 02:59:47.788000",
         null,
         null,
         null,
         "17671.0"
        ],
        [
         "std",
         null,
         null,
         null,
         null,
         "5098.9962898740605"
        ]
       ],
       "shape": {
        "columns": 5,
        "rows": 11
       }
      },
      "text/html": [
       "<div>\n",
       "<style scoped>\n",
       "    .dataframe tbody tr th:only-of-type {\n",
       "        vertical-align: middle;\n",
       "    }\n",
       "\n",
       "    .dataframe tbody tr th {\n",
       "        vertical-align: top;\n",
       "    }\n",
       "\n",
       "    .dataframe thead th {\n",
       "        text-align: right;\n",
       "    }\n",
       "</style>\n",
       "<table border=\"1\" class=\"dataframe\">\n",
       "  <thead>\n",
       "    <tr style=\"text-align: right;\">\n",
       "      <th></th>\n",
       "      <th>timestamp</th>\n",
       "      <th>visitorid</th>\n",
       "      <th>event</th>\n",
       "      <th>itemid</th>\n",
       "      <th>transactionid</th>\n",
       "    </tr>\n",
       "  </thead>\n",
       "  <tbody>\n",
       "    <tr>\n",
       "      <th>count</th>\n",
       "      <td>2756101</td>\n",
       "      <td>2756101.0</td>\n",
       "      <td>2756101</td>\n",
       "      <td>2756101.0</td>\n",
       "      <td>22457.000000</td>\n",
       "    </tr>\n",
       "    <tr>\n",
       "      <th>unique</th>\n",
       "      <td>NaN</td>\n",
       "      <td>1407580.0</td>\n",
       "      <td>3</td>\n",
       "      <td>235061.0</td>\n",
       "      <td>NaN</td>\n",
       "    </tr>\n",
       "    <tr>\n",
       "      <th>top</th>\n",
       "      <td>NaN</td>\n",
       "      <td>1150086.0</td>\n",
       "      <td>view</td>\n",
       "      <td>187946.0</td>\n",
       "      <td>NaN</td>\n",
       "    </tr>\n",
       "    <tr>\n",
       "      <th>freq</th>\n",
       "      <td>NaN</td>\n",
       "      <td>7757.0</td>\n",
       "      <td>2664312</td>\n",
       "      <td>3412.0</td>\n",
       "      <td>NaN</td>\n",
       "    </tr>\n",
       "    <tr>\n",
       "      <th>mean</th>\n",
       "      <td>2015-07-09 06:48:08.348103680</td>\n",
       "      <td>NaN</td>\n",
       "      <td>NaN</td>\n",
       "      <td>NaN</td>\n",
       "      <td>8826.497796</td>\n",
       "    </tr>\n",
       "    <tr>\n",
       "      <th>min</th>\n",
       "      <td>2015-05-03 03:00:04.384000</td>\n",
       "      <td>NaN</td>\n",
       "      <td>NaN</td>\n",
       "      <td>NaN</td>\n",
       "      <td>0.000000</td>\n",
       "    </tr>\n",
       "    <tr>\n",
       "      <th>25%</th>\n",
       "      <td>2015-06-05 04:23:14.792000</td>\n",
       "      <td>NaN</td>\n",
       "      <td>NaN</td>\n",
       "      <td>NaN</td>\n",
       "      <td>4411.000000</td>\n",
       "    </tr>\n",
       "    <tr>\n",
       "      <th>50%</th>\n",
       "      <td>2015-07-09 14:43:33.599000064</td>\n",
       "      <td>NaN</td>\n",
       "      <td>NaN</td>\n",
       "      <td>NaN</td>\n",
       "      <td>8813.000000</td>\n",
       "    </tr>\n",
       "    <tr>\n",
       "      <th>75%</th>\n",
       "      <td>2015-08-10 16:45:05.168000</td>\n",
       "      <td>NaN</td>\n",
       "      <td>NaN</td>\n",
       "      <td>NaN</td>\n",
       "      <td>13224.000000</td>\n",
       "    </tr>\n",
       "    <tr>\n",
       "      <th>max</th>\n",
       "      <td>2015-09-18 02:59:47.788000</td>\n",
       "      <td>NaN</td>\n",
       "      <td>NaN</td>\n",
       "      <td>NaN</td>\n",
       "      <td>17671.000000</td>\n",
       "    </tr>\n",
       "    <tr>\n",
       "      <th>std</th>\n",
       "      <td>NaN</td>\n",
       "      <td>NaN</td>\n",
       "      <td>NaN</td>\n",
       "      <td>NaN</td>\n",
       "      <td>5098.996290</td>\n",
       "    </tr>\n",
       "  </tbody>\n",
       "</table>\n",
       "</div>"
      ],
      "text/plain": [
       "                            timestamp  visitorid    event     itemid  \\\n",
       "count                         2756101  2756101.0  2756101  2756101.0   \n",
       "unique                            NaN  1407580.0        3   235061.0   \n",
       "top                               NaN  1150086.0     view   187946.0   \n",
       "freq                              NaN     7757.0  2664312     3412.0   \n",
       "mean    2015-07-09 06:48:08.348103680        NaN      NaN        NaN   \n",
       "min        2015-05-03 03:00:04.384000        NaN      NaN        NaN   \n",
       "25%        2015-06-05 04:23:14.792000        NaN      NaN        NaN   \n",
       "50%     2015-07-09 14:43:33.599000064        NaN      NaN        NaN   \n",
       "75%        2015-08-10 16:45:05.168000        NaN      NaN        NaN   \n",
       "max        2015-09-18 02:59:47.788000        NaN      NaN        NaN   \n",
       "std                               NaN        NaN      NaN        NaN   \n",
       "\n",
       "        transactionid  \n",
       "count    22457.000000  \n",
       "unique            NaN  \n",
       "top               NaN  \n",
       "freq              NaN  \n",
       "mean      8826.497796  \n",
       "min          0.000000  \n",
       "25%       4411.000000  \n",
       "50%       8813.000000  \n",
       "75%      13224.000000  \n",
       "max      17671.000000  \n",
       "std       5098.996290  "
      ]
     },
     "execution_count": 13,
     "metadata": {},
     "output_type": "execute_result"
    }
   ],
   "source": [
    "events.describe(include=\"all\")"
   ]
  },
  {
   "cell_type": "code",
   "execution_count": 14,
   "id": "c65bb105",
   "metadata": {},
   "outputs": [
    {
     "data": {
      "application/vnd.microsoft.datawrangler.viewer.v0+json": {
       "columns": [
        {
         "name": "index",
         "rawType": "object",
         "type": "string"
        },
        {
         "name": "0",
         "rawType": "int64",
         "type": "integer"
        }
       ],
       "ref": "47da0ed9-a54c-44e9-a515-33bc81c97d88",
       "rows": [
        [
         "timestamp",
         "0"
        ],
        [
         "visitorid",
         "0"
        ],
        [
         "event",
         "0"
        ],
        [
         "itemid",
         "0"
        ],
        [
         "transactionid",
         "2733644"
        ]
       ],
       "shape": {
        "columns": 1,
        "rows": 5
       }
      },
      "text/plain": [
       "timestamp              0\n",
       "visitorid              0\n",
       "event                  0\n",
       "itemid                 0\n",
       "transactionid    2733644\n",
       "dtype: int64"
      ]
     },
     "execution_count": 14,
     "metadata": {},
     "output_type": "execute_result"
    }
   ],
   "source": [
    "events.isnull().sum()"
   ]
  },
  {
   "cell_type": "code",
   "execution_count": null,
   "id": "41a5ed51",
   "metadata": {},
   "outputs": [
    {
     "data": {
      "image/png": "[encoded data removed]",
      "text/plain": [
       "<Figure size 1000x600 with 1 Axes>"
      ]
     },
     "metadata": {},
     "output_type": "display_data"
    }
   ],
   "source": [
    "#timeseries de timestamp a partir del tipo de evento en porcentaje\n",
    "filtered_timeseries = events[events['event'].notnull()].groupby('event').size().reset_index(name='cantidad')\n",
    "filtered_timeseries['porcentaje'] = filtered_timeseries['cantidad'] / filtered_timeseries['cantidad'].sum() * 100\n",
    "plt.figure(figsize=(10, 6))\n",
    "plt.bar(filtered_timeseries['event'], filtered_timeseries['porcentaje'])\n",
    "plt.xlabel('Tipo de Evento')\n",
    "plt.ylabel('Porcentaje')\n",
    "plt.title('Cantidad de Eventos por Tipo')\n",
    "plt.xticks(rotation=45)\n",
    "plt.tight_layout()\n",
    "plt.show()\n"
   ]
  },
  {
   "cell_type": "code",
   "execution_count": 30,
   "id": "fb6d3b15",
   "metadata": {},
   "outputs": [
    {
     "data": {
      "image/png": "[encoded data removed]",
      "text/plain": [
       "<Figure size 1000x600 with 1 Axes>"
      ]
     },
     "metadata": {},
     "output_type": "display_data"
    }
   ],
   "source": [
    "# Filtrar eventos\n",
    "filtered = events[\n",
    "    (events['timestamp'].notnull()) &\n",
    "    (events[\"event\"] == \"view\")\n",
    "]\n",
    "\n",
    "# Agrupar por fecha\n",
    "filtered_date_view = (\n",
    "    filtered.groupby(filtered['timestamp'].dt.date)\n",
    "    .size()\n",
    "    .reset_index(name='cantidad')\n",
    ")\n",
    "\n",
    "# Graficar\n",
    "plt.figure(figsize=(10, 6))\n",
    "plt.plot(filtered_date_view['timestamp'], filtered_date_view['cantidad'], marker='o')\n",
    "plt.xlabel('Fecha')\n",
    "plt.ylabel('Cantidad de Eventos')\n",
    "plt.title('Evolución de Vistas por Fecha')\n",
    "plt.xticks(rotation=45)\n",
    "plt.tight_layout()\n",
    "plt.show()\n"
   ]
  },
  {
   "cell_type": "code",
   "execution_count": 47,
   "id": "8890af74",
   "metadata": {},
   "outputs": [
    {
     "data": {
      "image/png": "[encoded data removed]",
      "text/plain": [
       "<Figure size 1000x600 with 1 Axes>"
      ]
     },
     "metadata": {},
     "output_type": "display_data"
    }
   ],
   "source": [
    "# Filtrar primero\n",
    "filtered = events[\n",
    "    (events['timestamp'].notnull()) &\n",
    "    (events[\"event\"] == \"addtocart\")\n",
    "]\n",
    "\n",
    "# Agrupar por fecha\n",
    "filtered_date_view = (\n",
    "    filtered.groupby(filtered['timestamp'].dt.date)\n",
    "    .size()\n",
    "    .reset_index(name='cantidad')\n",
    ")\n",
    "\n",
    "# Graficar\n",
    "plt.figure(figsize=(10, 6))\n",
    "plt.plot(filtered_date_view['timestamp'], filtered_date_view['cantidad'], marker='o')\n",
    "plt.xlabel('Fecha')\n",
    "plt.ylabel('Cantidad de Eventos')\n",
    "plt.title('Evolución de Agregar a carrito por Fecha')\n",
    "plt.xticks(rotation=45)\n",
    "plt.tight_layout()\n",
    "plt.show()\n"
   ]
  },
  {
   "cell_type": "code",
   "execution_count": 49,
   "id": "1b02fc23",
   "metadata": {},
   "outputs": [
    {
     "data": {
      "image/png": "[encoded data removed]",
      "text/plain": [
       "<Figure size 1000x600 with 1 Axes>"
      ]
     },
     "metadata": {},
     "output_type": "display_data"
    }
   ],
   "source": [
    "# Filtrar primero\n",
    "filtered = events[\n",
    "    (events['timestamp'].notnull()) &\n",
    "    (events[\"event\"] == \"transaction\")\n",
    "]\n",
    "\n",
    "# Agrupar por fecha\n",
    "filtered_date_view = (\n",
    "    filtered.groupby(filtered['timestamp'].dt.date)\n",
    "    .size()\n",
    "    .reset_index(name='cantidad')\n",
    ")\n",
    "\n",
    "# Graficar\n",
    "plt.figure(figsize=(10, 6))\n",
    "plt.plot(filtered_date_view['timestamp'], filtered_date_view['cantidad'], marker='o')\n",
    "plt.xlabel('Fecha')\n",
    "plt.ylabel('Cantidad de Eventos')\n",
    "plt.title('Evolución de Transacciones por Fecha')\n",
    "plt.xticks(rotation=45)\n",
    "plt.tight_layout()\n",
    "plt.show()\n"
   ]
  },
  {
   "cell_type": "code",
   "execution_count": 36,
   "id": "def9b8de",
   "metadata": {},
   "outputs": [
    {
     "data": {
      "application/vnd.microsoft.datawrangler.viewer.v0+json": {
       "columns": [
        {
         "name": "index",
         "rawType": "int64",
         "type": "integer"
        },
        {
         "name": "timestamp",
         "rawType": "datetime64[ns]",
         "type": "datetime"
        },
        {
         "name": "visitorid",
         "rawType": "category",
         "type": "unknown"
        },
        {
         "name": "event",
         "rawType": "object",
         "type": "string"
        },
        {
         "name": "itemid",
         "rawType": "int64",
         "type": "integer"
        },
        {
         "name": "transactionid",
         "rawType": "float64",
         "type": "float"
        },
        {
         "name": "id",
         "rawType": "category",
         "type": "unknown"
        },
        {
         "name": "categoria_id",
         "rawType": "float64",
         "type": "float"
        },
        {
         "name": "nombre",
         "rawType": "object",
         "type": "string"
        },
        {
         "name": "marca_id",
         "rawType": "float64",
         "type": "float"
        },
        {
         "name": "volumen",
         "rawType": "int64",
         "type": "integer"
        },
        {
         "name": "precio",
         "rawType": "float64",
         "type": "float"
        }
       ],
       "ref": "abbaab32-0bf5-4ded-8435-ebe98ee159eb",
       "rows": [
        [
         "0",
         "2015-06-02 05:50:14.164000",
         "992329",
         "view",
         "248676",
         null,
         "248676",
         "45.0",
         "Margaritaville Tequila Oro(Gold)",
         "3.0",
         "1000",
         "11.75"
        ],
        [
         "1",
         "2015-06-02 05:02:17.106000",
         "951259",
         "view",
         "367447",
         null,
         "367447",
         "11.0",
         "The Dalmore Cigar Malt Scotch",
         "18.0",
         "750",
         "31.49"
        ],
        [
         "2",
         "2015-06-02 05:12:03.240000",
         "810725",
         "view",
         "443030",
         null,
         "443030",
         "5.0",
         "Don Julio Anejo W/glasses",
         "1.0",
         "750",
         "45.0"
        ],
        [
         "3",
         "2015-06-02 05:34:51.897000",
         "794181",
         "view",
         "439202",
         null,
         "439202",
         "5.0",
         "Presidente With Two Glasses",
         "22.0",
         "750",
         "11.25"
        ],
        [
         "4",
         "2015-06-02 05:16:02.373000",
         "176446",
         "view",
         "10572",
         null,
         "10572",
         "1.0",
         "Buchanan's Red Seal",
         "1.0",
         "750",
         "126.75"
        ]
       ],
       "shape": {
        "columns": 11,
        "rows": 5
       }
      },
      "text/html": [
       "<div>\n",
       "<style scoped>\n",
       "    .dataframe tbody tr th:only-of-type {\n",
       "        vertical-align: middle;\n",
       "    }\n",
       "\n",
       "    .dataframe tbody tr th {\n",
       "        vertical-align: top;\n",
       "    }\n",
       "\n",
       "    .dataframe thead th {\n",
       "        text-align: right;\n",
       "    }\n",
       "</style>\n",
       "<table border=\"1\" class=\"dataframe\">\n",
       "  <thead>\n",
       "    <tr style=\"text-align: right;\">\n",
       "      <th></th>\n",
       "      <th>timestamp</th>\n",
       "      <th>visitorid</th>\n",
       "      <th>event</th>\n",
       "      <th>itemid</th>\n",
       "      <th>transactionid</th>\n",
       "      <th>id</th>\n",
       "      <th>categoria_id</th>\n",
       "      <th>nombre</th>\n",
       "      <th>marca_id</th>\n",
       "      <th>volumen</th>\n",
       "      <th>precio</th>\n",
       "    </tr>\n",
       "  </thead>\n",
       "  <tbody>\n",
       "    <tr>\n",
       "      <th>0</th>\n",
       "      <td>2015-06-02 05:50:14.164</td>\n",
       "      <td>992329</td>\n",
       "      <td>view</td>\n",
       "      <td>248676</td>\n",
       "      <td>NaN</td>\n",
       "      <td>248676</td>\n",
       "      <td>45.0</td>\n",
       "      <td>Margaritaville Tequila Oro(Gold)</td>\n",
       "      <td>3.0</td>\n",
       "      <td>1000</td>\n",
       "      <td>11.75</td>\n",
       "    </tr>\n",
       "    <tr>\n",
       "      <th>1</th>\n",
       "      <td>2015-06-02 05:02:17.106</td>\n",
       "      <td>951259</td>\n",
       "      <td>view</td>\n",
       "      <td>367447</td>\n",
       "      <td>NaN</td>\n",
       "      <td>367447</td>\n",
       "      <td>11.0</td>\n",
       "      <td>The Dalmore Cigar Malt Scotch</td>\n",
       "      <td>18.0</td>\n",
       "      <td>750</td>\n",
       "      <td>31.49</td>\n",
       "    </tr>\n",
       "    <tr>\n",
       "      <th>2</th>\n",
       "      <td>2015-06-02 05:12:03.240</td>\n",
       "      <td>810725</td>\n",
       "      <td>view</td>\n",
       "      <td>443030</td>\n",
       "      <td>NaN</td>\n",
       "      <td>443030</td>\n",
       "      <td>5.0</td>\n",
       "      <td>Don Julio Anejo W/glasses</td>\n",
       "      <td>1.0</td>\n",
       "      <td>750</td>\n",
       "      <td>45.00</td>\n",
       "    </tr>\n",
       "    <tr>\n",
       "      <th>3</th>\n",
       "      <td>2015-06-02 05:34:51.897</td>\n",
       "      <td>794181</td>\n",
       "      <td>view</td>\n",
       "      <td>439202</td>\n",
       "      <td>NaN</td>\n",
       "      <td>439202</td>\n",
       "      <td>5.0</td>\n",
       "      <td>Presidente With Two Glasses</td>\n",
       "      <td>22.0</td>\n",
       "      <td>750</td>\n",
       "      <td>11.25</td>\n",
       "    </tr>\n",
       "    <tr>\n",
       "      <th>4</th>\n",
       "      <td>2015-06-02 05:16:02.373</td>\n",
       "      <td>176446</td>\n",
       "      <td>view</td>\n",
       "      <td>10572</td>\n",
       "      <td>NaN</td>\n",
       "      <td>10572</td>\n",
       "      <td>1.0</td>\n",
       "      <td>Buchanan's Red Seal</td>\n",
       "      <td>1.0</td>\n",
       "      <td>750</td>\n",
       "      <td>126.75</td>\n",
       "    </tr>\n",
       "  </tbody>\n",
       "</table>\n",
       "</div>"
      ],
      "text/plain": [
       "                timestamp visitorid event  itemid  transactionid      id  \\\n",
       "0 2015-06-02 05:50:14.164    992329  view  248676            NaN  248676   \n",
       "1 2015-06-02 05:02:17.106    951259  view  367447            NaN  367447   \n",
       "2 2015-06-02 05:12:03.240    810725  view  443030            NaN  443030   \n",
       "3 2015-06-02 05:34:51.897    794181  view  439202            NaN  439202   \n",
       "4 2015-06-02 05:16:02.373    176446  view   10572            NaN   10572   \n",
       "\n",
       "   categoria_id                            nombre  marca_id  volumen  precio  \n",
       "0          45.0  Margaritaville Tequila Oro(Gold)       3.0     1000   11.75  \n",
       "1          11.0     The Dalmore Cigar Malt Scotch      18.0      750   31.49  \n",
       "2           5.0         Don Julio Anejo W/glasses       1.0      750   45.00  \n",
       "3           5.0       Presidente With Two Glasses      22.0      750   11.25  \n",
       "4           1.0               Buchanan's Red Seal       1.0      750  126.75  "
      ]
     },
     "execution_count": 36,
     "metadata": {},
     "output_type": "execute_result"
    }
   ],
   "source": [
    "joined_events=pd.merge(events,producto,left_on='itemid', right_on='id', how='inner')\n",
    "joined_events.head(5)"
   ]
  },
  {
   "cell_type": "code",
   "execution_count": 41,
   "id": "b5b3cb5c",
   "metadata": {},
   "outputs": [
    {
     "data": {
      "image/png": "[encoded data removed]",
      "text/plain": [
       "<Figure size 1000x600 with 1 Axes>"
      ]
     },
     "metadata": {},
     "output_type": "display_data"
    }
   ],
   "source": [
    "#top 10 productos vendidos\n",
    "filtered_top = joined_events[joined_events['event'] == 'transaction'].groupby('nombre').size().reset_index(name='cantidad')\n",
    "filtered_top = filtered_top.sort_values(by='cantidad', ascending=False).head(10)\n",
    "plt.figure(figsize=(10, 6))\n",
    "plt.bar(filtered_top['nombre'], filtered_top['cantidad'], color='skyblue')\n",
    "plt.xlabel('Producto')\n",
    "plt.ylabel('Cantidad Vendida')\n",
    "plt.title('Top 10 Productos Vendidos')\n",
    "plt.xticks(rotation=45)\n",
    "plt.tight_layout()\n",
    "plt.show()"
   ]
  },
  {
   "cell_type": "code",
   "execution_count": 44,
   "id": "3003a663",
   "metadata": {},
   "outputs": [
    {
     "data": {
      "image/png": "[encoded data removed]",
      "text/plain": [
       "<Figure size 1000x600 with 1 Axes>"
      ]
     },
     "metadata": {},
     "output_type": "display_data"
    }
   ],
   "source": [
    "#top 10 productos visitados\n",
    "filtered_top = joined_events[joined_events['event'] == 'view'].groupby('nombre').size().reset_index(name='cantidad')\n",
    "filtered_top = filtered_top.sort_values(by='cantidad', ascending=False).head(10)\n",
    "plt.figure(figsize=(10, 6))\n",
    "plt.bar(filtered_top['nombre'], filtered_top['cantidad'], color='skyblue')\n",
    "plt.xlabel('Producto')\n",
    "plt.ylabel('Cantidad Vista')\n",
    "plt.title('Top 10 Productos Visitados')\n",
    "plt.xticks(rotation=45)\n",
    "plt.tight_layout()\n",
    "plt.show()"
   ]
  },
  {
   "cell_type": "code",
   "execution_count": 15,
   "id": "36fd34c0",
   "metadata": {},
   "outputs": [
    {
     "data": {
      "application/vnd.microsoft.datawrangler.viewer.v0+json": {
       "columns": [
        {
         "name": "index",
         "rawType": "int64",
         "type": "integer"
        },
        {
         "name": "id",
         "rawType": "int64",
         "type": "integer"
        },
        {
         "name": "marca",
         "rawType": "object",
         "type": "string"
        }
       ],
       "ref": "af418a08-51db-4c8e-ad3c-ab6330a46f80",
       "rows": [
        [
         "0",
         "1",
         "Diageo Americas"
        ],
        [
         "1",
         "2",
         "Heaven Hill Brands"
        ],
        [
         "2",
         "3",
         "Sazerac Co., Inc."
        ],
        [
         "3",
         "4",
         "Sage Beverages"
        ],
        [
         "4",
         "5",
         "MHW Ltd"
        ]
       ],
       "shape": {
        "columns": 2,
        "rows": 5
       }
      },
      "text/html": [
       "<div>\n",
       "<style scoped>\n",
       "    .dataframe tbody tr th:only-of-type {\n",
       "        vertical-align: middle;\n",
       "    }\n",
       "\n",
       "    .dataframe tbody tr th {\n",
       "        vertical-align: top;\n",
       "    }\n",
       "\n",
       "    .dataframe thead th {\n",
       "        text-align: right;\n",
       "    }\n",
       "</style>\n",
       "<table border=\"1\" class=\"dataframe\">\n",
       "  <thead>\n",
       "    <tr style=\"text-align: right;\">\n",
       "      <th></th>\n",
       "      <th>id</th>\n",
       "      <th>marca</th>\n",
       "    </tr>\n",
       "  </thead>\n",
       "  <tbody>\n",
       "    <tr>\n",
       "      <th>0</th>\n",
       "      <td>1</td>\n",
       "      <td>Diageo Americas</td>\n",
       "    </tr>\n",
       "    <tr>\n",
       "      <th>1</th>\n",
       "      <td>2</td>\n",
       "      <td>Heaven Hill Brands</td>\n",
       "    </tr>\n",
       "    <tr>\n",
       "      <th>2</th>\n",
       "      <td>3</td>\n",
       "      <td>Sazerac Co., Inc.</td>\n",
       "    </tr>\n",
       "    <tr>\n",
       "      <th>3</th>\n",
       "      <td>4</td>\n",
       "      <td>Sage Beverages</td>\n",
       "    </tr>\n",
       "    <tr>\n",
       "      <th>4</th>\n",
       "      <td>5</td>\n",
       "      <td>MHW Ltd</td>\n",
       "    </tr>\n",
       "  </tbody>\n",
       "</table>\n",
       "</div>"
      ],
      "text/plain": [
       "   id               marca\n",
       "0   1     Diageo Americas\n",
       "1   2  Heaven Hill Brands\n",
       "2   3   Sazerac Co., Inc.\n",
       "3   4      Sage Beverages\n",
       "4   5             MHW Ltd"
      ]
     },
     "execution_count": 15,
     "metadata": {},
     "output_type": "execute_result"
    }
   ],
   "source": [
    "marca.head(5)\n"
   ]
  },
  {
   "cell_type": "code",
   "execution_count": 16,
   "id": "b260d17e",
   "metadata": {},
   "outputs": [
    {
     "data": {
      "application/vnd.microsoft.datawrangler.viewer.v0+json": {
       "columns": [
        {
         "name": "index",
         "rawType": "object",
         "type": "string"
        },
        {
         "name": "0",
         "rawType": "int64",
         "type": "integer"
        }
       ],
       "ref": "2ecc4a7a-4588-40a1-b828-5d20d191c025",
       "rows": [
        [
         "id",
         "0"
        ],
        [
         "marca",
         "0"
        ]
       ],
       "shape": {
        "columns": 1,
        "rows": 2
       }
      },
      "text/plain": [
       "id       0\n",
       "marca    0\n",
       "dtype: int64"
      ]
     },
     "execution_count": 16,
     "metadata": {},
     "output_type": "execute_result"
    }
   ],
   "source": [
    "marca.isnull().sum()"
   ]
  },
  {
   "cell_type": "code",
   "execution_count": 17,
   "id": "c12a037a",
   "metadata": {},
   "outputs": [
    {
     "data": {
      "application/vnd.microsoft.datawrangler.viewer.v0+json": {
       "columns": [
        {
         "name": "index",
         "rawType": "int64",
         "type": "integer"
        },
        {
         "name": "id",
         "rawType": "int64",
         "type": "integer"
        },
        {
         "name": "categoria_id",
         "rawType": "float64",
         "type": "float"
        },
        {
         "name": "nombre",
         "rawType": "object",
         "type": "string"
        },
        {
         "name": "marca_id",
         "rawType": "float64",
         "type": "float"
        },
        {
         "name": "volumen",
         "rawType": "int64",
         "type": "integer"
        },
        {
         "name": "precio",
         "rawType": "float64",
         "type": "float"
        }
       ],
       "ref": "3b84de8e-1655-4cc0-b1de-4fc6013df0b6",
       "rows": [
        [
         "0",
         "356475",
         "9.0",
         "Crown Royal Honey",
         "1.0",
         "750",
         "22.49"
        ],
        [
         "1",
         "15335",
         "9.0",
         "Crown Royal Regal Apple Mini",
         "1.0",
         "300",
         "11.03"
        ],
        [
         "2",
         "81345",
         "9.0",
         "Crown Royal Regal Apple",
         "1.0",
         "200",
         "7.08"
        ],
        [
         "3",
         "150318",
         "9.0",
         "Crown Royal Xr Canadian Whiskey",
         "1.0",
         "750",
         "98.99"
        ],
        [
         "4",
         "310791",
         "9.0",
         "Crown Royal Canadian Whisky Mini",
         "1.0",
         "300",
         "11.03"
        ]
       ],
       "shape": {
        "columns": 6,
        "rows": 5
       }
      },
      "text/html": [
       "<div>\n",
       "<style scoped>\n",
       "    .dataframe tbody tr th:only-of-type {\n",
       "        vertical-align: middle;\n",
       "    }\n",
       "\n",
       "    .dataframe tbody tr th {\n",
       "        vertical-align: top;\n",
       "    }\n",
       "\n",
       "    .dataframe thead th {\n",
       "        text-align: right;\n",
       "    }\n",
       "</style>\n",
       "<table border=\"1\" class=\"dataframe\">\n",
       "  <thead>\n",
       "    <tr style=\"text-align: right;\">\n",
       "      <th></th>\n",
       "      <th>id</th>\n",
       "      <th>categoria_id</th>\n",
       "      <th>nombre</th>\n",
       "      <th>marca_id</th>\n",
       "      <th>volumen</th>\n",
       "      <th>precio</th>\n",
       "    </tr>\n",
       "  </thead>\n",
       "  <tbody>\n",
       "    <tr>\n",
       "      <th>0</th>\n",
       "      <td>356475</td>\n",
       "      <td>9.0</td>\n",
       "      <td>Crown Royal Honey</td>\n",
       "      <td>1.0</td>\n",
       "      <td>750</td>\n",
       "      <td>22.49</td>\n",
       "    </tr>\n",
       "    <tr>\n",
       "      <th>1</th>\n",
       "      <td>15335</td>\n",
       "      <td>9.0</td>\n",
       "      <td>Crown Royal Regal Apple Mini</td>\n",
       "      <td>1.0</td>\n",
       "      <td>300</td>\n",
       "      <td>11.03</td>\n",
       "    </tr>\n",
       "    <tr>\n",
       "      <th>2</th>\n",
       "      <td>81345</td>\n",
       "      <td>9.0</td>\n",
       "      <td>Crown Royal Regal Apple</td>\n",
       "      <td>1.0</td>\n",
       "      <td>200</td>\n",
       "      <td>7.08</td>\n",
       "    </tr>\n",
       "    <tr>\n",
       "      <th>3</th>\n",
       "      <td>150318</td>\n",
       "      <td>9.0</td>\n",
       "      <td>Crown Royal Xr Canadian Whiskey</td>\n",
       "      <td>1.0</td>\n",
       "      <td>750</td>\n",
       "      <td>98.99</td>\n",
       "    </tr>\n",
       "    <tr>\n",
       "      <th>4</th>\n",
       "      <td>310791</td>\n",
       "      <td>9.0</td>\n",
       "      <td>Crown Royal Canadian Whisky Mini</td>\n",
       "      <td>1.0</td>\n",
       "      <td>300</td>\n",
       "      <td>11.03</td>\n",
       "    </tr>\n",
       "  </tbody>\n",
       "</table>\n",
       "</div>"
      ],
      "text/plain": [
       "       id  categoria_id                            nombre  marca_id  volumen  \\\n",
       "0  356475           9.0                 Crown Royal Honey       1.0      750   \n",
       "1   15335           9.0      Crown Royal Regal Apple Mini       1.0      300   \n",
       "2   81345           9.0           Crown Royal Regal Apple       1.0      200   \n",
       "3  150318           9.0   Crown Royal Xr Canadian Whiskey       1.0      750   \n",
       "4  310791           9.0  Crown Royal Canadian Whisky Mini       1.0      300   \n",
       "\n",
       "   precio  \n",
       "0   22.49  \n",
       "1   11.03  \n",
       "2    7.08  \n",
       "3   98.99  \n",
       "4   11.03  "
      ]
     },
     "execution_count": 17,
     "metadata": {},
     "output_type": "execute_result"
    }
   ],
   "source": [
    "producto.head(5)"
   ]
  },
  {
   "cell_type": "code",
   "execution_count": 18,
   "id": "286acd8b",
   "metadata": {},
   "outputs": [
    {
     "data": {
      "application/vnd.microsoft.datawrangler.viewer.v0+json": {
       "columns": [
        {
         "name": "index",
         "rawType": "int64",
         "type": "integer"
        },
        {
         "name": "categoria_id",
         "rawType": "float64",
         "type": "float"
        }
       ],
       "ref": "ee00fd7c-dafb-4872-bb82-af6f313fd1d7",
       "rows": [
        [
         "0",
         "9.0"
        ],
        [
         "1",
         "9.0"
        ],
        [
         "2",
         "9.0"
        ],
        [
         "3",
         "9.0"
        ],
        [
         "4",
         "9.0"
        ],
        [
         "5",
         "9.0"
        ],
        [
         "6",
         "9.0"
        ],
        [
         "7",
         "9.0"
        ],
        [
         "8",
         "9.0"
        ],
        [
         "9",
         "9.0"
        ],
        [
         "10",
         "9.0"
        ],
        [
         "11",
         "5.0"
        ],
        [
         "12",
         "5.0"
        ],
        [
         "13",
         "14.0"
        ],
        [
         "14",
         "14.0"
        ],
        [
         "15",
         "14.0"
        ],
        [
         "16",
         "14.0"
        ],
        [
         "17",
         "14.0"
        ],
        [
         "18",
         "14.0"
        ],
        [
         "19",
         "14.0"
        ],
        [
         "20",
         "14.0"
        ],
        [
         "21",
         "14.0"
        ],
        [
         "22",
         "14.0"
        ],
        [
         "23",
         "14.0"
        ],
        [
         "24",
         "14.0"
        ],
        [
         "25",
         "9.0"
        ],
        [
         "26",
         "9.0"
        ],
        [
         "27",
         "9.0"
        ],
        [
         "28",
         "9.0"
        ],
        [
         "29",
         "9.0"
        ],
        [
         "30",
         "9.0"
        ],
        [
         "31",
         "9.0"
        ],
        [
         "32",
         "9.0"
        ],
        [
         "33",
         "9.0"
        ],
        [
         "34",
         "9.0"
        ],
        [
         "35",
         "9.0"
        ],
        [
         "36",
         "9.0"
        ],
        [
         "37",
         "3.0"
        ],
        [
         "38",
         "9.0"
        ],
        [
         "39",
         "5.0"
        ],
        [
         "40",
         "5.0"
        ],
        [
         "41",
         "7.0"
        ],
        [
         "42",
         "47.0"
        ],
        [
         "43",
         "7.0"
        ],
        [
         "44",
         "7.0"
        ],
        [
         "45",
         "7.0"
        ],
        [
         "46",
         "7.0"
        ],
        [
         "47",
         "7.0"
        ],
        [
         "48",
         "19.0"
        ],
        [
         "49",
         "19.0"
        ]
       ],
       "shape": {
        "columns": 1,
        "rows": 12026
       }
      },
      "text/plain": [
       "0        9.0\n",
       "1        9.0\n",
       "2        9.0\n",
       "3        9.0\n",
       "4        9.0\n",
       "        ... \n",
       "12021    NaN\n",
       "12022    NaN\n",
       "12023    NaN\n",
       "12024    NaN\n",
       "12025    NaN\n",
       "Name: categoria_id, Length: 12026, dtype: float64"
      ]
     },
     "execution_count": 18,
     "metadata": {},
     "output_type": "execute_result"
    }
   ],
   "source": [
    "producto[\"id\"]=producto[\"id\"].astype(\"category\")\n",
    "producto[\"categoria_id\"]"
   ]
  },
  {
   "cell_type": "code",
   "execution_count": 19,
   "id": "5fc5de4f",
   "metadata": {},
   "outputs": [
    {
     "data": {
      "application/vnd.microsoft.datawrangler.viewer.v0+json": {
       "columns": [
        {
         "name": "index",
         "rawType": "object",
         "type": "string"
        },
        {
         "name": "0",
         "rawType": "int64",
         "type": "integer"
        }
       ],
       "ref": "1367a181-96fa-439b-82e7-315b363413de",
       "rows": [
        [
         "id",
         "0"
        ],
        [
         "categoria_id",
         "1028"
        ],
        [
         "nombre",
         "0"
        ],
        [
         "marca_id",
         "876"
        ],
        [
         "volumen",
         "0"
        ],
        [
         "precio",
         "6"
        ]
       ],
       "shape": {
        "columns": 1,
        "rows": 6
       }
      },
      "text/plain": [
       "id                 0\n",
       "categoria_id    1028\n",
       "nombre             0\n",
       "marca_id         876\n",
       "volumen            0\n",
       "precio             6\n",
       "dtype: int64"
      ]
     },
     "execution_count": 19,
     "metadata": {},
     "output_type": "execute_result"
    }
   ],
   "source": [
    "producto.isnull().sum()"
   ]
  }
 ],
 "metadata": {
  "kernelspec": {
   "display_name": "base",
   "language": "python",
   "name": "python3"
  },
  "language_info": {
   "codemirror_mode": {
    "name": "ipython",
    "version": 3
   },
   "file_extension": ".py",
   "mimetype": "text/x-python",
   "name": "python",
   "nbconvert_exporter": "python",
   "pygments_lexer": "ipython3",
   "version": "3.9.13"
  }
 },
 "nbformat": 4,
 "nbformat_minor": 5
}
